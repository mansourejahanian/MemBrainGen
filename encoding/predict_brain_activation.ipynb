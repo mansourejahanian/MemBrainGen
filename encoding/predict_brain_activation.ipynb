{
 "cells": [
  {
   "cell_type": "code",
   "execution_count": null,
   "metadata": {},
   "outputs": [],
   "source": [
    "# use Neurogen Model to predict brain response"
   ]
  },
  {
   "cell_type": "code",
   "execution_count": 1,
   "metadata": {},
   "outputs": [],
   "source": [
    "import sys\n",
    "import os\n",
    "import struct\n",
    "import time as time\n",
    "import numpy as np\n",
    "import h5py\n",
    "from scipy.stats import pearsonr\n",
    "from itertools import chain\n",
    "from scipy.io import loadmat\n",
    "from tqdm import tqdm\n",
    "import pickle\n",
    "import math\n",
    "import matplotlib.pyplot as plt\n",
    "import csv\n",
    "from itertools import zip_longest\n",
    "\n",
    "import src.numpy_utility as pnu\n",
    "from src.plots import display_candidate_loss\n",
    "from src.file_utility import save_stuff, flatten_dict, embed_dict\n",
    "from src.torch_fwrf import get_value\n",
    "\n",
    "import torch\n",
    "import torchvision\n",
    "import torchvision.transforms as transforms\n",
    "import torch.optim as optim\n",
    "import time\n",
    "import torch.nn.functional as F\n",
    "import torch.nn as nn\n",
    "import matplotlib.pyplot as plt\n",
    "from torchvision import models\n",
    "from torch.utils.data import DataLoader,Dataset\n",
    "import argparse\n",
    "import pandas as pd\n",
    "from visualize import center_crop\n",
    "\n",
    "from torch_fwrf import learn_params_ridge_regression, get_predictions, Torch_fwRF_voxel_block\n",
    "from encoding import load_encoding"
   ]
  },
  {
   "cell_type": "code",
   "execution_count": 1,
   "metadata": {},
   "outputs": [],
   "source": [
    "#paths\n",
    "\n",
    "nsd_root = 'Z:/CNAI2/Mansoure_NSD/'\n",
    "stim_root = nsd_root + \"nsd_stimuli/\"\n",
    "beta_root = nsd_root + \"nsd_beta/\"\n",
    "#mask_root = nsd_root + \"mask/ppdata/\"\n",
    "#roi_root = nsd_root + \"freesurfer/\"\n",
    "meanROIbeta_root = nsd_root + \"roiavgbeta/\"\n",
    "output_root = nsd_root + \"phase2/output/\"\n",
    "\n",
    "exp_design_file = nsd_root + \"experiments/nsd_expdesign.mat\"\n",
    "stim_file       = stim_root + \"nsd_stimuli.hdf5\"\n"
   ]
  },
  {
   "cell_type": "code",
   "execution_count": 49,
   "metadata": {},
   "outputs": [],
   "source": [
    "# parameters\n",
    "subject = 8\n",
    "savearg = {'format':'png', 'dpi': 120, 'facecolor': None}\n",
    "model_name = 'dnn_fwrf'\n",
    "\n",
    "# number of trials for all subjects\n",
    "trials = np.array([30000, 30000, 24000, 22500, 30000, 24000, 30000, 22500])"
   ]
  },
  {
   "cell_type": "code",
   "execution_count": 50,
   "metadata": {},
   "outputs": [
    {
     "name": "stdout",
     "output_type": "stream",
     "text": [
      "ordering shape (30000,)\n",
      "subject_idx shape (8, 10000)\n"
     ]
    }
   ],
   "source": [
    "# load behavior data\n",
    "\n",
    "exp_design = loadmat(exp_design_file)\n",
    "# order of image id in trials\n",
    "ordering = exp_design['masterordering'].flatten() - 1 # zero-indexed ordering of indices (matlab-like to python-like)\n",
    "print('ordering shape', ordering.shape)\n",
    "# image id for each subject\n",
    "subject_idx  = exp_design['subjectim']\n",
    "print('subject_idx shape', subject_idx.shape)\n",
    "# shared image id\n",
    "shared_idx   = exp_design['sharedix']\n"
   ]
  },
  {
   "cell_type": "code",
   "execution_count": 51,
   "metadata": {},
   "outputs": [
    {
     "name": "stdout",
     "output_type": "stream",
     "text": [
      "image data shape (10000, 3, 227, 227)\n"
     ]
    }
   ],
   "source": [
    "# load center cropped images\n",
    "image_data_set = h5py.File(stim_root + f'S{subject:d}_stimuli_227.h5py', 'r')\n",
    "image_data = np.copy(image_data_set['stimuli']).astype(np.float32) / 255.\n",
    "image_data_set.close()\n",
    "\n",
    "print ('image data shape', image_data.shape)\n",
    "#print (image_data.dtype)\n",
    "#print (np.min(image_data[0]), np.max(image_data[0]))\n"
   ]
  },
  {
   "cell_type": "code",
   "execution_count": 52,
   "metadata": {},
   "outputs": [
    {
     "name": "stdout",
     "output_type": "stream",
     "text": [
      "test size 2188\n",
      "test_image_data shape (1000, 3, 227, 227)\n"
     ]
    }
   ],
   "source": [
    "# choose the 1000 shared images\n",
    "\n",
    "data_size = trials[subject-1]\n",
    "ordering_data = ordering[:data_size]\n",
    "shared_mask   = ordering_data<1000  # the first 1000 indices are the shared indices\n",
    "test_size = np.sum(shared_mask)\n",
    "print('test size', test_size)\n",
    "\n",
    "test_image_data = image_data[:1000]\n",
    "print('test_image_data shape', test_image_data.shape)"
   ]
  },
  {
   "cell_type": "code",
   "execution_count": 53,
   "metadata": {},
   "outputs": [
    {
     "name": "stdout",
     "output_type": "stream",
     "text": [
      "test beta shape (2188, 24)\n"
     ]
    }
   ],
   "source": [
    "# load beta\n",
    "\n",
    "ROIs = ['OFA', 'FFA1', 'FFA2', 'mTLfaces', 'aTLfaces', 'EBA', 'FBA1', 'FBA2', 'mTLbodies', 'OPA', 'PPA', 'RSC', 'OWFA', 'VWFA1', 'VWFA2', 'mfswords', 'mTLwords', 'V1v', 'V1d', 'V2v', 'V2d', 'V3v', 'V3d', 'hV4']\n",
    "#ROIs = ['L_hippocampus', 'L_amygdala', 'R_hippocampus', 'R_amygdala']\n",
    "roi_num = len(ROIs)\n",
    "roi_data = np.zeros([data_size, roi_num])\n",
    "n = 0\n",
    "del_idx = []\n",
    "for roi in ROIs:\n",
    "    roi_data[:,n] = np.genfromtxt(meanROIbeta_root + f'subj{subject:02d}/meanbeta_' + roi + '.txt')\n",
    "    if np.isnan(np.sum(roi_data[:,n])):\n",
    "    \tdel_idx.append(n)\n",
    "    n += 1\n",
    "\n",
    "roi_data = np.delete(roi_data, del_idx, axis=1)\n",
    "test_roi_data = roi_data[shared_mask]\n",
    "\n",
    "print('test beta shape', test_roi_data.shape)\n"
   ]
  },
  {
   "cell_type": "code",
   "execution_count": 54,
   "metadata": {},
   "outputs": [],
   "source": [
    "# load encoding models\n",
    "fwrf, fmaps = load_encoding(subject, model_name='dnn_fwrf')\n",
    "\n",
    "# load params\n",
    "model_params_set = h5py.File(output_root+f'subj{subject:02d}/model_params.h5py' , 'r')\n",
    "model_params = embed_dict({k: np.copy(d) for k,d in model_params_set.items()})\n",
    "model_params_set.close()"
   ]
  },
  {
   "cell_type": "code",
   "execution_count": 55,
   "metadata": {},
   "outputs": [
    {
     "name": "stdout",
     "output_type": "stream",
     "text": [
      "samples [  900:999  ] of 1000, voxels [     0:23    ] of 24\n",
      "---------------------------------------\n",
      "total time = 3.530641s\n",
      "sample throughput = 0.003531s/sample\n",
      "voxel throughput = 0.147110s/voxel\n"
     ]
    }
   ],
   "source": [
    "# predict brain response\n",
    "voxel_pred = get_predictions(test_image_data, fmaps, fwrf, model_params['params'])\n"
   ]
  },
  {
   "cell_type": "code",
   "execution_count": 56,
   "metadata": {},
   "outputs": [
    {
     "name": "stdout",
     "output_type": "stream",
     "text": [
      "test pred shape (2188, 24)\n"
     ]
    },
    {
     "name": "stderr",
     "output_type": "stream",
     "text": [
      "100%|██████████| 24/24 [00:00<00:00, 9602.53it/s]\n"
     ]
    },
    {
     "data": {
      "image/png": "[encoded data removed]",
      "text/plain": [
       "<Figure size 1600x600 with 1 Axes>"
      ]
     },
     "metadata": {},
     "output_type": "display_data"
    }
   ],
   "source": [
    "# correlate predicted response and beta\n",
    "\n",
    "test_voxel_pred = voxel_pred[ordering[:data_size][shared_mask]]\n",
    "print('test pred shape', test_voxel_pred.shape)\n",
    "accuracy  = np.zeros(shape=(test_voxel_pred.shape[1]))\n",
    "\n",
    "for v in tqdm(range(test_voxel_pred.shape[1])):    \n",
    "    accuracy[v] = np.corrcoef(test_roi_data[:,v], test_voxel_pred[:,v])[0,1]  \n",
    "    \n",
    "\n",
    "accuracy = np.nan_to_num(accuracy)\n",
    "\n",
    "# plot the accuracy for all rois\n",
    "ROIs_label = ['OFA', 'FFA1', 'FFA2', 'mTL \\n faces', 'aTL \\n faces', 'EBA', 'FBA1', 'FBA2', 'mTL \\n bodies', 'OPA', 'PPA', 'RSC', 'OWFA', 'VWFA1', 'VWFA2', 'mfs \\n words', 'mTL \\n words', 'V1v', 'V1d', 'V2v', 'V2d', 'V3v', 'V3d', 'hV4']\n",
    "ROIs_label = np.delete(ROIs_label,del_idx) \n",
    "\n",
    "plt.figure(figsize=(16,6))\n",
    "plt.bar(ROIs_label,accuracy)\n",
    "plt.ylabel('Accuracy')\n",
    "\n",
    "save_dir = nsd_root + f'output/subj{subject:02d}/'\n",
    "if not os.path.exists(save_dir):\n",
    "    os.makedirs(save_dir)\n",
    "\n",
    "plt.savefig(save_dir + 'Accuracy.png')\n"
   ]
  },
  {
   "cell_type": "code",
   "execution_count": 57,
   "metadata": {},
   "outputs": [],
   "source": [
    "# save predictions\n",
    "\n",
    "# ROIs_num = np.array(range(24))\n",
    "# ROIs_num = np.delete(ROIs_num,del_idx)\n",
    "\n",
    "# pred_act = np.concatenate((voxel_pred,ROIs_num.reshape([len(ROIs_num),1]).T), axis=0)\n",
    "\n",
    "# print('activation and roi id shape', pred_act.shape)\n",
    "\n",
    "ROIs_bool = np.ones((24,1), dtype = 'bool')\n",
    "ROIs_bool[del_idx] = False\n",
    "\n",
    "pred_act = np.zeros((1000,24))\n",
    "pred_act[:,ROIs_bool[:,0]] = voxel_pred\n",
    "\n",
    "with open(save_dir + 'act_pred.npy', 'wb') as f:\n",
    "    np.save(f, pred_act)\n",
    "\n",
    "save_acc = np.zeros([1,24])\n",
    "save_acc[:,ROIs_bool[:,0]] = accuracy\n",
    "\n",
    "with open(save_dir + 'acc.npy', 'wb') as f:\n",
    "    np.save(f, save_acc)"
   ]
  },
  {
   "cell_type": "code",
   "execution_count": null,
   "metadata": {},
   "outputs": [],
   "source": []
  }
 ],
 "metadata": {
  "kernelspec": {
   "display_name": "Memorability",
   "language": "python",
   "name": "python3"
  },
  "language_info": {
   "codemirror_mode": {
    "name": "ipython",
    "version": 3
   },
   "file_extension": ".py",
   "mimetype": "text/x-python",
   "name": "python",
   "nbconvert_exporter": "python",
   "pygments_lexer": "ipython3",
   "version": "3.11.7"
  }
 },
 "nbformat": 4,
 "nbformat_minor": 2
}
