{
 "cells": [
  {
   "cell_type": "code",
   "execution_count": 1,
   "id": "eb4a6382-3f64-48eb-8bc4-9f3b6aa1a1fb",
   "metadata": {},
   "outputs": [],
   "source": [
    "import numpy as np\n",
    "import pandas as pd\n",
    "import scipy.stats as stats\n",
    "import matplotlib.pyplot as plt"
   ]
  },
  {
   "cell_type": "code",
   "execution_count": 2,
   "id": "e26ef6ea-58f0-4877-bd30-8113637fd709",
   "metadata": {},
   "outputs": [],
   "source": [
    "base_dir = \"/home/hhan228/memorability/Willow/neurogen_output/\"\n",
    "alexnet_dir = base_dir+\"alexnet/\"\n",
    "resnet_dir = base_dir+\"resnet/\""
   ]
  },
  {
   "cell_type": "code",
   "execution_count": 3,
   "id": "ad632113-fdaf-4371-b7c2-1b3e0ffe57cd",
   "metadata": {},
   "outputs": [],
   "source": [
    "ROIs = [\n",
    "    'OFA', 'FFA1', 'FFA2', 'mTLfaces', 'aTLfaces',\n",
    "    'EBA', 'FBA1', 'FBA2', 'mTLbodies',\n",
    "    'OPA', 'PPA', 'RSC',\n",
    "    'V1v', 'V1d', 'V2v', 'V2d', 'V3v', 'V3d', 'hV4',\n",
    "    'L-hippocampus', 'L-amygdala', 'R-hippocampus', 'R-amygdala'\n",
    "]"
   ]
  },
  {
   "cell_type": "code",
   "execution_count": 4,
   "id": "37671c3c-65ee-4773-b02c-33b35737067f",
   "metadata": {},
   "outputs": [
    {
     "name": "stdout",
     "output_type": "stream",
     "text": [
      "SUBJECT 1 alexnet < resnet\n",
      "p-value: 0.0461, significant: *\n",
      "\n",
      "SUBJECT 2 alexnet < resnet\n",
      "p-value: 0.4061, significant: n.s.\n",
      "\n",
      "SUBJECT 3 alexnet < resnet\n",
      "p-value: 0.0004, significant: ***\n",
      "\n",
      "SUBJECT 4 alexnet < resnet\n",
      "p-value: 0.4637, significant: n.s.\n",
      "\n",
      "SUBJECT 5 alexnet < resnet\n",
      "p-value: 0.8615, significant: n.s.\n",
      "\n",
      "SUBJECT 6 alexnet < resnet\n",
      "p-value: 0.4300, significant: n.s.\n",
      "\n",
      "SUBJECT 7 alexnet < resnet\n",
      "p-value: 0.7338, significant: n.s.\n",
      "\n",
      "SUBJECT 8 alexnet < resnet\n",
      "p-value: 0.0001, significant: ***\n",
      "\n"
     ]
    }
   ],
   "source": [
    "# per subject\n",
    "for subj in range(1, 9):\n",
    "    alexnet_acc = np.load(alexnet_dir+f\"S{subj:02d}/acc.npy\")\n",
    "    resnet_acc = np.load(resnet_dir+f\"S{subj:02d}/acc.npy\")\n",
    "\n",
    "    alexnet_acc_z = np.arctanh(alexnet_acc).ravel()\n",
    "    resnet_acc_z = np.arctanh(resnet_acc).ravel()\n",
    "\n",
    "    _, p_value = stats.ttest_rel(alexnet_acc_z, resnet_acc_z, alternative=\"less\")\n",
    "    if p_value < 0.001:\n",
    "        sig = \"***\"\n",
    "    elif p_value < 0.01:\n",
    "        sig = \"**\"\n",
    "    elif p_value < 0.05:\n",
    "        sig = \"*\"\n",
    "    else:\n",
    "        sig = \"n.s.\"\n",
    "    print(f\"SUBJECT {subj} alexnet < resnet\\np-value: {p_value:0.4f}, significant: {sig}\\n\")"
   ]
  },
  {
   "cell_type": "code",
   "execution_count": 5,
   "id": "65ee413e-6f1e-4b34-9c30-f28195ac871a",
   "metadata": {},
   "outputs": [
    {
     "name": "stdout",
     "output_type": "stream",
     "text": [
      "All subjects (average) alexnet < resnet\n",
      "p-value: 0.0001, significant: ***\n"
     ]
    }
   ],
   "source": [
    "# average\n",
    "alexnet_accs = np.zeros((8, 23))\n",
    "resnet_accs = np.zeros((8, 23))\n",
    "for i in range(8):\n",
    "    alexnet_accs[i, :] = np.load(alexnet_dir+f\"S{i+1:02d}/acc.npy\")\n",
    "    resnet_accs[i, :] = np.load(resnet_dir+f\"S{i+1:02d}/acc.npy\")\n",
    "\n",
    "alexnet_accs_z = np.arctanh(alexnet_accs.mean(axis=0))\n",
    "resnet_accs_z = np.arctanh(resnet_accs.mean(axis=0))\n",
    "\n",
    "_, p_value = stats.ttest_rel(alexnet_acc_z, resnet_acc_z, alternative=\"less\")\n",
    "if p_value < 0.001:\n",
    "    sig = \"***\"\n",
    "elif p_value < 0.01:\n",
    "    sig = \"**\"\n",
    "elif p_value < 0.05:\n",
    "    sig = \"*\"\n",
    "else:\n",
    "    sig = \"n.s.\"\n",
    "print(f\"All subjects (average) alexnet < resnet\\np-value: {p_value:0.4f}, significant: {sig}\")"
   ]
  },
  {
   "cell_type": "code",
   "execution_count": 10,
   "id": "c63e8e72-3c33-47f4-88fc-e4804d16c4de",
   "metadata": {},
   "outputs": [
    {
     "name": "stdout",
     "output_type": "stream",
     "text": [
      "OFA alexnet < resnet\n",
      "p-value: 0.0001, significant: ***\n",
      "\n",
      "FFA1 alexnet < resnet\n",
      "p-value: 0.0001, significant: ***\n",
      "\n",
      "FFA2 alexnet < resnet\n",
      "p-value: 0.0001, significant: ***\n",
      "\n",
      "mTLfaces alexnet < resnet\n",
      "p-value: 0.0001, significant: ***\n",
      "\n",
      "aTLfaces alexnet < resnet\n",
      "p-value: 0.0001, significant: ***\n",
      "\n",
      "EBA alexnet < resnet\n",
      "p-value: 0.0001, significant: ***\n",
      "\n",
      "FBA1 alexnet < resnet\n",
      "p-value: 0.0001, significant: ***\n",
      "\n",
      "FBA2 alexnet < resnet\n",
      "p-value: 0.0001, significant: ***\n",
      "\n",
      "mTLbodies alexnet < resnet\n",
      "p-value: 0.0001, significant: ***\n",
      "\n",
      "OPA alexnet < resnet\n",
      "p-value: 0.0001, significant: ***\n",
      "\n",
      "PPA alexnet < resnet\n",
      "p-value: 0.0001, significant: ***\n",
      "\n",
      "RSC alexnet < resnet\n",
      "p-value: 0.0001, significant: ***\n",
      "\n",
      "V1v alexnet < resnet\n",
      "p-value: 0.0001, significant: ***\n",
      "\n",
      "V1d alexnet < resnet\n",
      "p-value: 0.0001, significant: ***\n",
      "\n",
      "V2v alexnet < resnet\n",
      "p-value: 0.0001, significant: ***\n",
      "\n",
      "V2d alexnet < resnet\n",
      "p-value: 0.0001, significant: ***\n",
      "\n",
      "V3v alexnet < resnet\n",
      "p-value: 0.0001, significant: ***\n",
      "\n",
      "V3d alexnet < resnet\n",
      "p-value: 0.0001, significant: ***\n",
      "\n",
      "hV4 alexnet < resnet\n",
      "p-value: 0.0001, significant: ***\n",
      "\n",
      "L-hippocampus alexnet < resnet\n",
      "p-value: 0.0001, significant: ***\n",
      "\n",
      "L-amygdala alexnet < resnet\n",
      "p-value: 0.0001, significant: ***\n",
      "\n",
      "R-hippocampus alexnet < resnet\n",
      "p-value: 0.0001, significant: ***\n",
      "\n",
      "R-amygdala alexnet < resnet\n",
      "p-value: 0.0001, significant: ***\n",
      "\n"
     ]
    }
   ],
   "source": [
    "# ROIs\n",
    "alexnet_accs = np.zeros((8, 23))\n",
    "resnet_accs = np.zeros((8, 23))\n",
    "for i in range(8):\n",
    "    alexnet_accs[i, :] = np.load(alexnet_dir+f\"S{i+1:02d}/acc.npy\")\n",
    "    resnet_accs[i, :] = np.load(resnet_dir+f\"S{i+1:02d}/acc.npy\")\n",
    "\n",
    "for i in range(23):\n",
    "    # print(alexnet_accs[:,i])\n",
    "    # print(resnet_accs[:,i],'\\n')\n",
    "    alexnet_accs_z = np.arctanh(alexnet_accs[:,i])\n",
    "    resnet_accs_z = np.arctanh(resnet_accs[:,i])\n",
    "    \n",
    "    _, p_value = stats.ttest_rel(alexnet_acc_z, resnet_acc_z, alternative=\"less\")\n",
    "    if p_value < 0.001:\n",
    "        sig = \"***\"\n",
    "    elif p_value < 0.01:\n",
    "        sig = \"**\"\n",
    "    elif p_value < 0.05:\n",
    "        sig = \"*\"\n",
    "    else:\n",
    "        sig = \"n.s.\"\n",
    "    print(f\"{ROIs[i]} alexnet < resnet\\np-value: {p_value:0.4f}, significant: {sig}\\n\")"
   ]
  },
  {
   "cell_type": "code",
   "execution_count": null,
   "id": "1ae03e08-f508-4742-be90-a29ad44f584d",
   "metadata": {},
   "outputs": [],
   "source": []
  }
 ],
 "metadata": {
  "kernelspec": {
   "display_name": "Python 3 (ipykernel)",
   "language": "python",
   "name": "python3"
  },
  "language_info": {
   "codemirror_mode": {
    "name": "ipython",
    "version": 3
   },
   "file_extension": ".py",
   "mimetype": "text/x-python",
   "name": "python",
   "nbconvert_exporter": "python",
   "pygments_lexer": "ipython3",
   "version": "3.8.3"
  }
 },
 "nbformat": 4,
 "nbformat_minor": 5
}
