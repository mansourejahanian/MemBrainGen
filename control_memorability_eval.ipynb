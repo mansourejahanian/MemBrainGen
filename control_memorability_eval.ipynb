{
 "cells": [
  {
   "cell_type": "code",
   "execution_count": 1,
   "id": "717713b4-7d7f-4c48-8529-f0f8e92ca1bd",
   "metadata": {},
   "outputs": [],
   "source": [
    "import os\n",
    "import math\n",
    "import shutil\n",
    "import time\n",
    "from IPython import display\n",
    "\n",
    "import pickle\n",
    "import numpy as np\n",
    "import pandas as pd\n",
    "import PIL.Image\n",
    "import matplotlib.pyplot as plt\n",
    "\n",
    "import torch\n",
    "import torch.nn.functional as F\n",
    "from torchvision import transforms\n",
    "import torchmetrics.image as tmi\n",
    "from transformers import CLIPProcessor, CLIPModel\n",
    "\n",
    "from tqdm.notebook import tqdm, trange"
   ]
  },
  {
   "cell_type": "markdown",
   "id": "e17314bd-3fc1-4969-b2f5-3738f6d39fce",
   "metadata": {},
   "source": [
    "## Synth Images"
   ]
  },
  {
   "cell_type": "code",
   "execution_count": 2,
   "id": "c6b3e306-f2e7-4c23-92ae-6746623a7751",
   "metadata": {},
   "outputs": [],
   "source": [
    "dlats_dir = \"/home/hhan228/memorability/Willow/per_class/\"\n",
    "\n",
    "class_indices = {}\n",
    "\n",
    "animals = \"\"\"\n",
    "9: ostrich, Struthio camelus\n",
    "11: goldfinch, Carduelis carduelis\n",
    "13: junco, snowbird\n",
    "92: bee eater\n",
    "99: goose\n",
    "101: tusker\n",
    "132: American egret, great white heron, Egretta albus\n",
    "142: dowitcher\n",
    "146: albatross, mollymawk\n",
    "207: golden retriever\n",
    "249: malamute, malemute, Alaskan malamute\n",
    "276: hyena, hyaena\n",
    "281: tabby, tabby cat\n",
    "285: Egyptian cat\n",
    "293: cheetah, chetah, Acinonyx jubatus\n",
    "294: brown bear, bruin, Ursus arctos\n",
    "295: American black bear, black bear, Ursus americanus, Euarctos americanus\n",
    "296: ice bear, polar bear, Ursus Maritimus, Thalarctos maritimus\n",
    "339: sorrel\n",
    "340: zebra\n",
    "345: ox\n",
    "346: water buffalo, water ox, Asiatic buffalo, Bubalus bubalis\n",
    "348: ram, tup\n",
    "351: hartebeest\n",
    "353: gazelle\n",
    "354: Arabian camel, dromedary, Camelus dromedarius\n",
    "355: llama\n",
    "385: Indian elephant, Elephas maximus\n",
    "386: African elephant, Loxodonta africana\n",
    "\"\"\"\n",
    "animal_classes = [int(e.split(': ')[0]) for e in animals.strip().split('\\n')]\n",
    "# animal_classes = sorted(np.random.choice(animal_classes, 10, replace=False))\n",
    "class_indices[\"animals\"] = animal_classes\n",
    "\n",
    "foods = \"\"\"\n",
    "931: bagel, beigel\n",
    "934: hotdog, hot dog, red hot\n",
    "937: broccoli\n",
    "938: cauliflower\n",
    "943: cucumber, cuke\n",
    "948: Granny Smith\n",
    "950: orange\n",
    "954: banana\n",
    "962: meat loaf, meatloaf\n",
    "963: pizza, pizza pie\n",
    "965: burrito\n",
    "\"\"\"\n",
    "food_classes = [int(e.split(': ')[0]) for e in foods.strip().split('\\n')]\n",
    "# food_classes = sorted(np.random.choice(food_classes, 10, replace=False))\n",
    "class_indices[\"foods\"] = food_classes\n",
    "\n",
    "human_classes = [457, 655, 842, 834, 981]\n",
    "class_indices[\"humans\"] = human_classes\n",
    "\n",
    "landscapes = \"\"\"\n",
    "460: break water\n",
    "975: lakeside, lakeshore\n",
    "978: seashore, coast, seacoast, sea-coast\n",
    "970: alp\n",
    "\"\"\"\n",
    "# 977: sandbar, sand bar\n",
    "place_classes = sorted([int(e.split(': ')[0]) for e in landscapes.strip().split('\\n')])\n",
    "place_classes.extend([582, 598, 706, 718, 762])\n",
    "class_indices[\"places\"] = place_classes"
   ]
  },
  {
   "cell_type": "code",
   "execution_count": 3,
   "id": "dc670bd3-ceb1-4226-96a5-f6d216c18247",
   "metadata": {},
   "outputs": [],
   "source": [
    "# np.random.seed(42)\n",
    "# neurogen_classes = {}\n",
    "# for k in class_indices.keys():\n",
    "#     if len(class_indices[k]) < 10:\n",
    "#         dup_num = 10 - len(class_indices[k])\n",
    "#         neurogen_classes[k] = class_indices[k]\n",
    "#         neurogen_classes[k].extend(np.random.choice(class_indices[k], dup_num, replace=False))\n",
    "#         neurogen_classes[k] = sorted(neurogen_classes[k])\n",
    "#     else:\n",
    "#         neurogen_classes[k] = sorted(np.random.choice(class_indices[k], 10, replace=False))\n",
    "\n",
    "# neurogen_input_dict = {}\n",
    "\n",
    "# for k, v in neurogen_classes.items():\n",
    "#     for cls_idx in v:\n",
    "#         neurogen_input_dict[cls_idx] = None\n",
    "\n",
    "# for k, v in neurogen_classes.items():\n",
    "#     for cls_idx in v:\n",
    "#         if neurogen_input_dict[cls_idx]:\n",
    "#             neurogen_input_dict[cls_idx] = (k, 2)\n",
    "#         else:\n",
    "#             neurogen_input_dict[cls_idx] = (k, 1)\n",
    "\n",
    "# neurogen_input_dict"
   ]
  },
  {
   "cell_type": "markdown",
   "id": "f5a79f1a-cf3b-4230-a9f6-912edb773972",
   "metadata": {},
   "source": [
    "### Checking"
   ]
  },
  {
   "cell_type": "code",
   "execution_count": 4,
   "id": "a9bb9b2b-d62c-49c0-992d-25aff7dc502d",
   "metadata": {},
   "outputs": [
    {
     "data": {
      "application/json": {
       "ascii": false,
       "bar_format": null,
       "colour": null,
       "elapsed": 0.004347085952758789,
       "initial": 0,
       "n": 0,
       "ncols": null,
       "nrows": 19,
       "postfix": null,
       "prefix": "",
       "rate": null,
       "total": 138,
       "unit": "it",
       "unit_divisor": 1000,
       "unit_scale": false
      },
      "application/vnd.jupyter.widget-view+json": {
       "model_id": "61e42e0833b54871ac3aef1d3c6e0c42",
       "version_major": 2,
       "version_minor": 0
      },
      "text/plain": [
       "  0%|          | 0/138 [00:00<?, ?it/s]"
      ]
     },
     "metadata": {},
     "output_type": "display_data"
    }
   ],
   "source": [
    "ctrld_dir = \"data/synthetic_memorability_controlled/\"\n",
    "ctrld_dirs = sorted([int(f) for f in os.listdir(ctrld_dir) if os.path.isdir(os.path.join(ctrld_dir, f))])\n",
    "class_dict = {k: {} for k in class_indices.keys()}\n",
    "\n",
    "pbar = tqdm(ctrld_dirs)\n",
    "for imagenet_cls in pbar:\n",
    "    if imagenet_cls in class_indices[\"animals\"]:\n",
    "        cls = \"animals\"\n",
    "        div = len(class_indices[\"animals\"])\n",
    "    elif imagenet_cls in class_indices[\"foods\"]:\n",
    "        cls = \"foods\"\n",
    "        div = len(class_indices[\"foods\"])\n",
    "    elif imagenet_cls in class_indices[\"humans\"]:\n",
    "        cls = \"humans\"\n",
    "        div = len(class_indices[\"humans\"])\n",
    "    elif imagenet_cls in class_indices[\"places\"]:\n",
    "        cls = \"places\"\n",
    "        div = len(class_indices[\"places\"])\n",
    "    else:\n",
    "        continue\n",
    "    \n",
    "    select_dir = ctrld_dir + f\"{imagenet_cls}/\"\n",
    "    img_dirs = sorted([f for f in os.listdir(select_dir) if os.path.isdir(os.path.join(select_dir, f))])\n",
    "\n",
    "    filtered_dirs = []\n",
    "    for img_dir in img_dirs:\n",
    "        img_files = sorted([f for f in os.listdir(select_dir+img_dir) if os.path.isfile(os.path.join(select_dir+img_dir, f))])\n",
    "        flags = [False, False, False]\n",
    "        for img_file in img_files:\n",
    "            coef = int(img_file.split(\"_\")[2].split(\"memcoef\")[-1])\n",
    "            if coef == 0:\n",
    "                flags[0] = True\n",
    "            elif coef > 0:\n",
    "                flags[1] = True\n",
    "            elif coef < 0:\n",
    "                flags[2] = True\n",
    "        if all(f == True for f in flags):\n",
    "            filtered_dirs.append(img_dir)\n",
    "\n",
    "    pbar.set_postfix(img_dirs=len(img_dirs), filtered_dirs=len(filtered_dirs))\n",
    "    try:\n",
    "        choice_num = math.ceil(250 / div)\n",
    "        selected_dirs = np.random.choice(filtered_dirs, choice_num, replace=False)\n",
    "    except ValueError:\n",
    "        choice_num = len(filtered_dirs)\n",
    "        print(cls, imagenet_cls, choice_num)\n",
    "        selected_dirs = np.random.choice(filtered_dirs, choice_num, replace=False)\n",
    "    \n",
    "    class_dict[cls][imagenet_cls] = list(selected_dirs)"
   ]
  },
  {
   "cell_type": "markdown",
   "id": "ee26315f-a4b7-4490-a434-e2d554aa7d5c",
   "metadata": {
    "jp-MarkdownHeadingCollapsed": true
   },
   "source": [
    "### LPIPS"
   ]
  },
  {
   "cell_type": "code",
   "execution_count": 5,
   "id": "2b5a717c-6cc8-4ee7-8658-3ff53025d46a",
   "metadata": {},
   "outputs": [],
   "source": [
    "device = torch.device(\"cuda:1\")\n",
    "lpips = tmi.lpip.LearnedPerceptualImagePatchSimilarity().to(device)"
   ]
  },
  {
   "cell_type": "code",
   "execution_count": 6,
   "id": "4889d104-ed11-4e90-9515-3b6fd06f247f",
   "metadata": {},
   "outputs": [
    {
     "data": {
      "application/json": {
       "ascii": false,
       "bar_format": null,
       "colour": null,
       "elapsed": 0.0029044151306152344,
       "initial": 0,
       "n": 0,
       "ncols": null,
       "nrows": 17,
       "postfix": null,
       "prefix": "animals",
       "rate": null,
       "total": 29,
       "unit": "it",
       "unit_divisor": 1000,
       "unit_scale": false
      },
      "application/vnd.jupyter.widget-view+json": {
       "model_id": "c5e7d2c58720423da94dc3cd1abd5feb",
       "version_major": 2,
       "version_minor": 0
      },
      "text/plain": [
       "animals:   0%|          | 0/29 [00:00<?, ?it/s]"
      ]
     },
     "metadata": {},
     "output_type": "display_data"
    },
    {
     "data": {
      "application/json": {
       "ascii": false,
       "bar_format": null,
       "colour": null,
       "elapsed": 0.0033135414123535156,
       "initial": 0,
       "n": 0,
       "ncols": null,
       "nrows": 17,
       "postfix": null,
       "prefix": "foods",
       "rate": null,
       "total": 11,
       "unit": "it",
       "unit_divisor": 1000,
       "unit_scale": false
      },
      "application/vnd.jupyter.widget-view+json": {
       "model_id": "0ae2d1517d36452eba4172cea36efd11",
       "version_major": 2,
       "version_minor": 0
      },
      "text/plain": [
       "foods:   0%|          | 0/11 [00:00<?, ?it/s]"
      ]
     },
     "metadata": {},
     "output_type": "display_data"
    },
    {
     "data": {
      "application/json": {
       "ascii": false,
       "bar_format": null,
       "colour": null,
       "elapsed": 0.003129720687866211,
       "initial": 0,
       "n": 0,
       "ncols": null,
       "nrows": 17,
       "postfix": null,
       "prefix": "humans",
       "rate": null,
       "total": 5,
       "unit": "it",
       "unit_divisor": 1000,
       "unit_scale": false
      },
      "application/vnd.jupyter.widget-view+json": {
       "model_id": "804dbce8938d4e48bacdaf424ffeb590",
       "version_major": 2,
       "version_minor": 0
      },
      "text/plain": [
       "humans:   0%|          | 0/5 [00:00<?, ?it/s]"
      ]
     },
     "metadata": {},
     "output_type": "display_data"
    },
    {
     "data": {
      "application/json": {
       "ascii": false,
       "bar_format": null,
       "colour": null,
       "elapsed": 0.003283262252807617,
       "initial": 0,
       "n": 0,
       "ncols": null,
       "nrows": 17,
       "postfix": null,
       "prefix": "places",
       "rate": null,
       "total": 10,
       "unit": "it",
       "unit_divisor": 1000,
       "unit_scale": false
      },
      "application/vnd.jupyter.widget-view+json": {
       "model_id": "c414239a80884bb8bb472bbb93bcd291",
       "version_major": 2,
       "version_minor": 0
      },
      "text/plain": [
       "places:   0%|          | 0/10 [00:00<?, ?it/s]"
      ]
     },
     "metadata": {},
     "output_type": "display_data"
    }
   ],
   "source": [
    "df_dict = {\"category\": [], \"imagenet_class\": [], \"image_id\": [], \"mem_coef\": [], \"memorability\": [], \"filename\": [], \"lpips\": []}\n",
    "for category in class_dict.keys():\n",
    "    for imagenet_cls in tqdm(class_dict[category].keys(), desc=category):\n",
    "        for img_dir in class_dict[category][imagenet_cls]:\n",
    "            class_dir = ctrld_dir + f\"{imagenet_cls}/\"\n",
    "            img_files = sorted([f for f in os.listdir(class_dir+img_dir) if os.path.isfile(os.path.join(class_dir+img_dir, f))])\n",
    "            \n",
    "            ctrl_img_key = \"memcoef0\"\n",
    "            ctrl_img_file = next((s for s in img_files if ctrl_img_key in s), None)\n",
    "            img_files.remove(ctrl_img_file)\n",
    "\n",
    "            df_dict[\"category\"].append(category)\n",
    "            df_dict[\"imagenet_class\"].append(imagenet_cls)\n",
    "            df_dict[\"image_id\"].append(img_dir)\n",
    "            df_dict[\"mem_coef\"].append(0)\n",
    "            df_dict[\"memorability\"].append(float(ctrl_img_file.split(\"_\")[3].split(\"memscore\")[-1].split(\".png\")[0]))\n",
    "            df_dict[\"filename\"].append(ctrl_img_file)\n",
    "\n",
    "            ctrl_img = PIL.Image.open(class_dir+f\"{img_dir}/{ctrl_img_file}\").convert(\"RGB\")\n",
    "            ctrl_img = np.array(ctrl_img).transpose(2, 0, 1)\n",
    "            ctrl_img_lpips = torch.Tensor(2*ctrl_img-1).to(device)\n",
    "            df_dict[\"lpips\"].append(0)\n",
    "            \n",
    "            for img_file in img_files:\n",
    "                coef = int(img_file.split(\"_\")[2].split(\"memcoef\")[-1])\n",
    "                mem_score = float(img_file.split(\"_\")[3].split(\"memscore\")[-1].split(\".png\")[0])\n",
    "                df_dict[\"category\"].append(category)\n",
    "                df_dict[\"imagenet_class\"].append(imagenet_cls)\n",
    "                df_dict[\"image_id\"].append(img_dir)\n",
    "                df_dict[\"mem_coef\"].append(coef)\n",
    "                df_dict[\"memorability\"].append(mem_score)\n",
    "                df_dict[\"filename\"].append(img_file)\n",
    "                \n",
    "                img = PIL.Image.open(class_dir+f\"{img_dir}/{img_file}\").convert(\"RGB\")\n",
    "                img = np.array(img).transpose(2, 0, 1)\n",
    "                img_lpips = torch.Tensor(2*img-1).to(device)\n",
    "                \n",
    "                lpips_score = lpips(ctrl_img_lpips.unsqueeze(0), img_lpips.unsqueeze(0))\n",
    "                df_dict[\"lpips\"].append(lpips_score.cpu().numpy())"
   ]
  },
  {
   "cell_type": "code",
   "execution_count": 7,
   "id": "6b6ec18f-fe7c-46bb-8293-f2e090940a53",
   "metadata": {},
   "outputs": [
    {
     "data": {
      "text/html": [
       "<div>\n",
       "<style scoped>\n",
       "    .dataframe tbody tr th:only-of-type {\n",
       "        vertical-align: middle;\n",
       "    }\n",
       "\n",
       "    .dataframe tbody tr th {\n",
       "        vertical-align: top;\n",
       "    }\n",
       "\n",
       "    .dataframe thead th {\n",
       "        text-align: right;\n",
       "    }\n",
       "</style>\n",
       "<table border=\"1\" class=\"dataframe\">\n",
       "  <thead>\n",
       "    <tr style=\"text-align: right;\">\n",
       "      <th></th>\n",
       "      <th>category</th>\n",
       "      <th>imagenet_class</th>\n",
       "      <th>image_id</th>\n",
       "      <th>mem_coef</th>\n",
       "      <th>memorability</th>\n",
       "      <th>filename</th>\n",
       "      <th>lpips</th>\n",
       "    </tr>\n",
       "  </thead>\n",
       "  <tbody>\n",
       "    <tr>\n",
       "      <th>0</th>\n",
       "      <td>animals</td>\n",
       "      <td>9</td>\n",
       "      <td>test_1294</td>\n",
       "      <td>0</td>\n",
       "      <td>0.7799</td>\n",
       "      <td>class9_dlatidx1294_memcoef0_memscore0.7799.png</td>\n",
       "      <td>0.000000</td>\n",
       "    </tr>\n",
       "    <tr>\n",
       "      <th>1</th>\n",
       "      <td>animals</td>\n",
       "      <td>9</td>\n",
       "      <td>test_1294</td>\n",
       "      <td>-100</td>\n",
       "      <td>0.4723</td>\n",
       "      <td>class9_dlatidx1294_memcoef-100_memscore0.4723.png</td>\n",
       "      <td>0.524088</td>\n",
       "    </tr>\n",
       "    <tr>\n",
       "      <th>2</th>\n",
       "      <td>animals</td>\n",
       "      <td>9</td>\n",
       "      <td>test_1294</td>\n",
       "      <td>-10</td>\n",
       "      <td>0.6851</td>\n",
       "      <td>class9_dlatidx1294_memcoef-10_memscore0.6851.png</td>\n",
       "      <td>0.361628</td>\n",
       "    </tr>\n",
       "    <tr>\n",
       "      <th>3</th>\n",
       "      <td>animals</td>\n",
       "      <td>9</td>\n",
       "      <td>test_1294</td>\n",
       "      <td>-15</td>\n",
       "      <td>0.6285</td>\n",
       "      <td>class9_dlatidx1294_memcoef-15_memscore0.6285.png</td>\n",
       "      <td>0.434176</td>\n",
       "    </tr>\n",
       "    <tr>\n",
       "      <th>4</th>\n",
       "      <td>animals</td>\n",
       "      <td>9</td>\n",
       "      <td>test_1294</td>\n",
       "      <td>-20</td>\n",
       "      <td>0.6532</td>\n",
       "      <td>class9_dlatidx1294_memcoef-20_memscore0.6532.png</td>\n",
       "      <td>0.466975</td>\n",
       "    </tr>\n",
       "  </tbody>\n",
       "</table>\n",
       "</div>"
      ],
      "text/plain": [
       "  category  imagenet_class   image_id  mem_coef  memorability  \\\n",
       "0  animals               9  test_1294         0        0.7799   \n",
       "1  animals               9  test_1294      -100        0.4723   \n",
       "2  animals               9  test_1294       -10        0.6851   \n",
       "3  animals               9  test_1294       -15        0.6285   \n",
       "4  animals               9  test_1294       -20        0.6532   \n",
       "\n",
       "                                            filename     lpips  \n",
       "0     class9_dlatidx1294_memcoef0_memscore0.7799.png  0.000000  \n",
       "1  class9_dlatidx1294_memcoef-100_memscore0.4723.png  0.524088  \n",
       "2   class9_dlatidx1294_memcoef-10_memscore0.6851.png  0.361628  \n",
       "3   class9_dlatidx1294_memcoef-15_memscore0.6285.png  0.434176  \n",
       "4   class9_dlatidx1294_memcoef-20_memscore0.6532.png  0.466975  "
      ]
     },
     "execution_count": 7,
     "metadata": {},
     "output_type": "execute_result"
    }
   ],
   "source": [
    "df_dict[\"lpips\"] = np.array(df_dict[\"lpips\"])\n",
    "df = pd.DataFrame(df_dict)\n",
    "df.head()"
   ]
  },
  {
   "cell_type": "code",
   "execution_count": 8,
   "id": "9ed2a46f-3fdc-4d46-bc8f-54bec561143d",
   "metadata": {},
   "outputs": [],
   "source": [
    "df.to_csv(ctrld_dir+\"sampled_imgs_lpips_newcate_250_ver2.csv\", index=False)"
   ]
  },
  {
   "cell_type": "markdown",
   "id": "bde5daa1-f80b-46ce-a879-2d36743456dd",
   "metadata": {},
   "source": [
    "## Filter"
   ]
  },
  {
   "cell_type": "code",
   "execution_count": 5,
   "id": "599151d7-223f-4b19-9e2f-53d65235fb20",
   "metadata": {},
   "outputs": [],
   "source": [
    "df = pd.read_csv(ctrld_dir+\"sampled_imgs_lpips_newcate_250_ver2.csv\")\n",
    "thr = 0.5"
   ]
  },
  {
   "cell_type": "code",
   "execution_count": 6,
   "id": "e356382b-fed5-452e-bab5-4fa2f675ff49",
   "metadata": {
    "scrolled": true
   },
   "outputs": [
    {
     "name": "stderr",
     "output_type": "stream",
     "text": [
      "/tmp/ipykernel_3808131/2362480696.py:6: SettingWithCopyWarning: \n",
      "A value is trying to be set on a copy of a slice from a DataFrame.\n",
      "Try using .loc[row_indexer,col_indexer] = value instead\n",
      "\n",
      "See the caveats in the documentation: https://pandas.pydata.org/pandas-docs/stable/user_guide/indexing.html#returning-a-view-versus-a-copy\n",
      "  df_cat[\"image_id\"] = new_image_ids\n"
     ]
    },
    {
     "data": {
      "application/json": {
       "ascii": false,
       "bar_format": null,
       "colour": null,
       "elapsed": 0.0028629302978515625,
       "initial": 0,
       "n": 0,
       "ncols": null,
       "nrows": 19,
       "postfix": null,
       "prefix": "",
       "rate": null,
       "total": 261,
       "unit": "it",
       "unit_divisor": 1000,
       "unit_scale": false
      },
      "application/vnd.jupyter.widget-view+json": {
       "model_id": "5b47e549eb5442a594babe4cdfb55625",
       "version_major": 2,
       "version_minor": 0
      },
      "text/plain": [
       "  0%|          | 0/261 [00:00<?, ?it/s]"
      ]
     },
     "metadata": {},
     "output_type": "display_data"
    },
    {
     "name": "stderr",
     "output_type": "stream",
     "text": [
      "/tmp/ipykernel_3808131/2362480696.py:6: SettingWithCopyWarning: \n",
      "A value is trying to be set on a copy of a slice from a DataFrame.\n",
      "Try using .loc[row_indexer,col_indexer] = value instead\n",
      "\n",
      "See the caveats in the documentation: https://pandas.pydata.org/pandas-docs/stable/user_guide/indexing.html#returning-a-view-versus-a-copy\n",
      "  df_cat[\"image_id\"] = new_image_ids\n"
     ]
    },
    {
     "data": {
      "application/json": {
       "ascii": false,
       "bar_format": null,
       "colour": null,
       "elapsed": 0.002867460250854492,
       "initial": 0,
       "n": 0,
       "ncols": null,
       "nrows": 19,
       "postfix": null,
       "prefix": "",
       "rate": null,
       "total": 253,
       "unit": "it",
       "unit_divisor": 1000,
       "unit_scale": false
      },
      "application/vnd.jupyter.widget-view+json": {
       "model_id": "72de9b65d9c647eea351bf84838206b8",
       "version_major": 2,
       "version_minor": 0
      },
      "text/plain": [
       "  0%|          | 0/253 [00:00<?, ?it/s]"
      ]
     },
     "metadata": {},
     "output_type": "display_data"
    },
    {
     "name": "stderr",
     "output_type": "stream",
     "text": [
      "/tmp/ipykernel_3808131/2362480696.py:6: SettingWithCopyWarning: \n",
      "A value is trying to be set on a copy of a slice from a DataFrame.\n",
      "Try using .loc[row_indexer,col_indexer] = value instead\n",
      "\n",
      "See the caveats in the documentation: https://pandas.pydata.org/pandas-docs/stable/user_guide/indexing.html#returning-a-view-versus-a-copy\n",
      "  df_cat[\"image_id\"] = new_image_ids\n"
     ]
    },
    {
     "data": {
      "application/json": {
       "ascii": false,
       "bar_format": null,
       "colour": null,
       "elapsed": 0.0028696060180664062,
       "initial": 0,
       "n": 0,
       "ncols": null,
       "nrows": 19,
       "postfix": null,
       "prefix": "",
       "rate": null,
       "total": 250,
       "unit": "it",
       "unit_divisor": 1000,
       "unit_scale": false
      },
      "application/vnd.jupyter.widget-view+json": {
       "model_id": "7acf1c9c9f2a4f929bdccc2eefb54c27",
       "version_major": 2,
       "version_minor": 0
      },
      "text/plain": [
       "  0%|          | 0/250 [00:00<?, ?it/s]"
      ]
     },
     "metadata": {},
     "output_type": "display_data"
    },
    {
     "name": "stderr",
     "output_type": "stream",
     "text": [
      "/tmp/ipykernel_3808131/2362480696.py:6: SettingWithCopyWarning: \n",
      "A value is trying to be set on a copy of a slice from a DataFrame.\n",
      "Try using .loc[row_indexer,col_indexer] = value instead\n",
      "\n",
      "See the caveats in the documentation: https://pandas.pydata.org/pandas-docs/stable/user_guide/indexing.html#returning-a-view-versus-a-copy\n",
      "  df_cat[\"image_id\"] = new_image_ids\n"
     ]
    },
    {
     "data": {
      "application/json": {
       "ascii": false,
       "bar_format": null,
       "colour": null,
       "elapsed": 0.0028994083404541016,
       "initial": 0,
       "n": 0,
       "ncols": null,
       "nrows": 19,
       "postfix": null,
       "prefix": "",
       "rate": null,
       "total": 250,
       "unit": "it",
       "unit_divisor": 1000,
       "unit_scale": false
      },
      "application/vnd.jupyter.widget-view+json": {
       "model_id": "6606d9aad7844583be14f83d505ff72c",
       "version_major": 2,
       "version_minor": 0
      },
      "text/plain": [
       "  0%|          | 0/250 [00:00<?, ?it/s]"
      ]
     },
     "metadata": {},
     "output_type": "display_data"
    }
   ],
   "source": [
    "for category in class_dict.keys():\n",
    "    df_cat = df[df[\"category\"] == category]\n",
    "    new_image_ids = []\n",
    "    for imagenet_class, image_id in zip(df_cat[\"imagenet_class\"].values.tolist(), df_cat[\"image_id\"].values.tolist()):\n",
    "        new_image_ids.append(f\"{imagenet_class}-{image_id}\")\n",
    "    df_cat[\"image_id\"] = new_image_ids\n",
    "    df_cat = df_cat.iloc[:, 2:]\n",
    "    grouped_df = df_cat.groupby(\"image_id\")\n",
    "\n",
    "    dest_dir = f\"data/synthetic_new_categories_ver3_{thr}/{category}/\"\n",
    "    os.makedirs(dest_dir+\"original/\", exist_ok=True)\n",
    "    os.makedirs(dest_dir+\"increased/\", exist_ok=True)\n",
    "    os.makedirs(dest_dir+\"decreased/\", exist_ok=True)\n",
    "    for k, v in tqdm(grouped_df):\n",
    "        group_df = grouped_df.get_group(k)\n",
    "\n",
    "        memscore = group_df[group_df[\"mem_coef\"] == 0][\"memorability\"].values[0]\n",
    "        high_df = group_df[(group_df[\"mem_coef\"] > 0) & (group_df[\"lpips\"] < thr) & (group_df[\"memorability\"] > memscore)]\n",
    "        low_df = group_df[(group_df[\"mem_coef\"] < 0) & (group_df[\"lpips\"] < thr) & (group_df[\"memorability\"] < memscore)]\n",
    "    \n",
    "        if high_df.shape[0] > 0 and low_df.shape[0] > 0:\n",
    "            img = group_df[group_df[\"mem_coef\"] == 0][\"filename\"].values[0]\n",
    "            high_img = high_df.sort_values(\"memorability\", ascending=False)[\"filename\"].values[0]\n",
    "            low_img = low_df.sort_values(\"memorability\", ascending=True)[\"filename\"].values[0]\n",
    "        \n",
    "            shutil.copyfile(ctrld_dir+f\"{k.split('-')[0]}/{k.split('-')[-1]}/{img}\", dest_dir+f\"original/{img}\")\n",
    "            shutil.copyfile(ctrld_dir+f\"{k.split('-')[0]}/{k.split('-')[-1]}/{high_img}\", dest_dir+f\"increased/{high_img}\")\n",
    "            shutil.copyfile(ctrld_dir+f\"{k.split('-')[0]}/{k.split('-')[-1]}/{low_img}\", dest_dir+f\"decreased/{low_img}\")"
   ]
  },
  {
   "cell_type": "code",
   "execution_count": 7,
   "id": "5300654a-7c6a-4e44-97e7-e8be85836243",
   "metadata": {},
   "outputs": [
    {
     "name": "stdout",
     "output_type": "stream",
     "text": [
      "animals 257\n",
      "foods 238\n",
      "humans 226\n",
      "places 239\n"
     ]
    }
   ],
   "source": [
    "for category in class_dict.keys():\n",
    "    dest_dir = f\"data/synthetic_new_categories_ver3_{thr}/{category}/original/\"\n",
    "    files = sorted([f for f in os.listdir(dest_dir) if os.path.isfile(os.path.join(dest_dir, f))])\n",
    "    print(category, len(files))"
   ]
  },
  {
   "cell_type": "code",
   "execution_count": 9,
   "id": "6254e511-3446-4e0f-a6b8-7b63e90e48fb",
   "metadata": {},
   "outputs": [
    {
     "name": "stdout",
     "output_type": "stream",
     "text": [
      "animals original (200, 3, 227, 227)\n",
      "animals increased (200, 3, 227, 227)\n",
      "animals decreased (200, 3, 227, 227)\n",
      "foods original (200, 3, 227, 227)\n",
      "foods increased (200, 3, 227, 227)\n",
      "foods decreased (200, 3, 227, 227)\n",
      "humans original (200, 3, 227, 227)\n",
      "humans increased (200, 3, 227, 227)\n",
      "humans decreased (200, 3, 227, 227)\n",
      "places original (200, 3, 227, 227)\n",
      "places increased (200, 3, 227, 227)\n",
      "places decreased (200, 3, 227, 227)\n"
     ]
    }
   ],
   "source": [
    "cat_dict = {\"category\": [], \"memorability_controlled\": [], \"filename_prefix\": [], \"memorability\": []}\n",
    "for category in class_dict.keys():\n",
    "    dest_dir = f\"data/synthetic_new_categories_ver3_{thr}/{category}/\"\n",
    "    om = \"original\"\n",
    "    files = sorted([f for f in os.listdir(dest_dir+f\"{om}/\") if os.path.isfile(os.path.join(dest_dir+f\"{om}/\", f))])\n",
    "    np.random.seed(42)\n",
    "    files = sorted(np.random.choice(files, 200, replace=False).tolist())\n",
    "    sub_keys = sorted(['_'.join(f.split('_')[:2]) for f in files])\n",
    "    \n",
    "    imgs = np.zeros((200, 3, 227, 227))\n",
    "    for i, f in enumerate(files):\n",
    "        cat_dict[\"category\"].append(category)\n",
    "        cat_dict[\"memorability_controlled\"].append(om)\n",
    "        cat_dict[\"filename_prefix\"].append('_'.join(f.split('_')[:2]))\n",
    "        memorability = float(f.split('_')[3].split('memscore')[-1].split('.png')[0])\n",
    "        cat_dict[\"memorability\"].append(memorability)\n",
    "        \n",
    "        img = PIL.Image.open(dest_dir+f\"{om}/{f}\").convert(\"RGB\").resize((227, 227))\n",
    "        img = np.array(img)\n",
    "        imgs[i] = img.transpose(2, 0, 1)\n",
    "    np.save(dest_dir+f\"{om}_imgs_200.npy\", imgs)\n",
    "    print(category, om, imgs.shape)\n",
    "    \n",
    "    for m in [\"increased\", \"decreased\"]:\n",
    "        files = sorted([f for f in os.listdir(dest_dir+f\"{m}/\") if os.path.isfile(os.path.join(dest_dir+f\"{m}/\", f))])\n",
    "        files = sorted([f for f in files if '_'.join(f.split('_')[:2]) in sub_keys])\n",
    "        \n",
    "        imgs = np.zeros((200, 3, 227, 227))\n",
    "        for i, f in enumerate(files):\n",
    "            cat_dict[\"category\"].append(category)\n",
    "            cat_dict[\"memorability_controlled\"].append(m)\n",
    "            cat_dict[\"filename_prefix\"].append('_'.join(f.split('_')[:2]))\n",
    "            memorability = float(f.split('_')[3].split('memscore')[-1].split('.png')[0])\n",
    "            cat_dict[\"memorability\"].append(memorability)\n",
    "            \n",
    "            img = PIL.Image.open(dest_dir+f\"{m}/{f}\").convert(\"RGB\").resize((227, 227))\n",
    "            img = np.array(img)\n",
    "            imgs[i] = img.transpose(2, 0, 1)\n",
    "            \n",
    "        np.save(dest_dir+f\"{m}_imgs_200.npy\", imgs)\n",
    "        print(category, m, imgs.shape)"
   ]
  },
  {
   "cell_type": "code",
   "execution_count": 10,
   "id": "9b291fa2-e0ad-43fb-8d67-268a8c60ef81",
   "metadata": {},
   "outputs": [
    {
     "name": "stdout",
     "output_type": "stream",
     "text": [
      "(2400, 4)\n"
     ]
    },
    {
     "data": {
      "text/html": [
       "<div>\n",
       "<style scoped>\n",
       "    .dataframe tbody tr th:only-of-type {\n",
       "        vertical-align: middle;\n",
       "    }\n",
       "\n",
       "    .dataframe tbody tr th {\n",
       "        vertical-align: top;\n",
       "    }\n",
       "\n",
       "    .dataframe thead th {\n",
       "        text-align: right;\n",
       "    }\n",
       "</style>\n",
       "<table border=\"1\" class=\"dataframe\">\n",
       "  <thead>\n",
       "    <tr style=\"text-align: right;\">\n",
       "      <th></th>\n",
       "      <th>category</th>\n",
       "      <th>memorability_controlled</th>\n",
       "      <th>filename_prefix</th>\n",
       "      <th>memorability</th>\n",
       "    </tr>\n",
       "  </thead>\n",
       "  <tbody>\n",
       "    <tr>\n",
       "      <th>0</th>\n",
       "      <td>animals</td>\n",
       "      <td>original</td>\n",
       "      <td>class101_dlatidx333</td>\n",
       "      <td>0.8062</td>\n",
       "    </tr>\n",
       "    <tr>\n",
       "      <th>1</th>\n",
       "      <td>animals</td>\n",
       "      <td>original</td>\n",
       "      <td>class101_dlatidx5553</td>\n",
       "      <td>0.8141</td>\n",
       "    </tr>\n",
       "    <tr>\n",
       "      <th>2</th>\n",
       "      <td>animals</td>\n",
       "      <td>original</td>\n",
       "      <td>class101_dlatidx6283</td>\n",
       "      <td>0.8316</td>\n",
       "    </tr>\n",
       "    <tr>\n",
       "      <th>3</th>\n",
       "      <td>animals</td>\n",
       "      <td>original</td>\n",
       "      <td>class101_dlatidx6541</td>\n",
       "      <td>0.8076</td>\n",
       "    </tr>\n",
       "    <tr>\n",
       "      <th>4</th>\n",
       "      <td>animals</td>\n",
       "      <td>original</td>\n",
       "      <td>class101_dlatidx751</td>\n",
       "      <td>0.8158</td>\n",
       "    </tr>\n",
       "  </tbody>\n",
       "</table>\n",
       "</div>"
      ],
      "text/plain": [
       "  category memorability_controlled       filename_prefix  memorability\n",
       "0  animals                original   class101_dlatidx333        0.8062\n",
       "1  animals                original  class101_dlatidx5553        0.8141\n",
       "2  animals                original  class101_dlatidx6283        0.8316\n",
       "3  animals                original  class101_dlatidx6541        0.8076\n",
       "4  animals                original   class101_dlatidx751        0.8158"
      ]
     },
     "execution_count": 10,
     "metadata": {},
     "output_type": "execute_result"
    }
   ],
   "source": [
    "df_cat_saved = pd.DataFrame(cat_dict)\n",
    "print(df_cat_saved.shape)\n",
    "df_cat_saved.head()"
   ]
  },
  {
   "cell_type": "code",
   "execution_count": 11,
   "id": "03ac5051-9a5c-4900-820f-8eb47e958725",
   "metadata": {},
   "outputs": [],
   "source": [
    "df_cat_saved.to_csv(f\"data/synthetic_new_categories_ver3_{thr}/200_saved_images_info_newcate_ver3.csv\", index=False)"
   ]
  },
  {
   "cell_type": "code",
   "execution_count": 12,
   "id": "dd854410-9e6f-41b1-9a4c-46c52ece7a3d",
   "metadata": {},
   "outputs": [],
   "source": [
    "g_df = df_cat_saved.groupby(\"filename_prefix\")\n",
    "change_dict = {\"increased\": [], \"decreased\": []}\n",
    "for k, v in g_df:\n",
    "    gd_df = g_df.get_group(k)\n",
    "    for i, row in gd_df.iterrows():\n",
    "        if row[\"memorability_controlled\"] == \"original\":\n",
    "            base = row[\"memorability\"]\n",
    "        else:\n",
    "            change_dict[row[\"memorability_controlled\"]].append(base - row[\"memorability\"])"
   ]
  },
  {
   "cell_type": "code",
   "execution_count": 13,
   "id": "834cc81f-9da9-4a60-965c-66cf4ff6bfd7",
   "metadata": {},
   "outputs": [
    {
     "data": {
      "text/plain": [
       "(array([], dtype=int64),)"
      ]
     },
     "execution_count": 13,
     "metadata": {},
     "output_type": "execute_result"
    }
   ],
   "source": [
    "np.where(np.array(change_dict[\"increased\"]) > 0)"
   ]
  },
  {
   "cell_type": "code",
   "execution_count": 14,
   "id": "d53f4fa5-2ea6-4bcb-9b9b-18457cbe1870",
   "metadata": {},
   "outputs": [
    {
     "data": {
      "text/plain": [
       "(array([], dtype=int64),)"
      ]
     },
     "execution_count": 14,
     "metadata": {},
     "output_type": "execute_result"
    }
   ],
   "source": [
    "np.where(np.array(change_dict[\"decreased\"]) < 0)"
   ]
  },
  {
   "cell_type": "markdown",
   "id": "832e9053-9136-4837-b99e-f0780a5bc97c",
   "metadata": {
    "jp-MarkdownHeadingCollapsed": true
   },
   "source": [
    "## NSD Images"
   ]
  },
  {
   "cell_type": "code",
   "execution_count": 4,
   "id": "0a6ef80e-2ea7-4fde-ad05-2a673b2eddc7",
   "metadata": {},
   "outputs": [],
   "source": [
    "ctrld_dir = \"data/memorability_controlled/\"\n",
    "dest_dir = \"data/memorability_controlled_filtered/\""
   ]
  },
  {
   "cell_type": "markdown",
   "id": "5f0d93b1-40d0-4259-801d-87fae5643b63",
   "metadata": {},
   "source": [
    "### Filtering out memorability-controlled NSD images that do not include both negative and positive coef"
   ]
  },
  {
   "cell_type": "code",
   "execution_count": 3,
   "id": "287083ce-a224-4b47-a174-2f3c33f0156d",
   "metadata": {},
   "outputs": [],
   "source": [
    "ctrld_nids_str = sorted([f for f in os.listdir(ctrld_dir) if os.path.isdir(os.path.join(ctrld_dir, f))])\n",
    "ctrld_nids = sorted([int(f.split(\"shared\")[-1])-1 for f in ctrld_nids_str])"
   ]
  },
  {
   "cell_type": "code",
   "execution_count": 4,
   "id": "abb37533-003b-4811-a311-9016f3cbcbb2",
   "metadata": {},
   "outputs": [
    {
     "data": {
      "application/json": {
       "ascii": false,
       "bar_format": null,
       "colour": null,
       "elapsed": 0.007928133010864258,
       "initial": 0,
       "n": 0,
       "ncols": null,
       "nrows": 17,
       "postfix": null,
       "prefix": "",
       "rate": null,
       "total": 856,
       "unit": "it",
       "unit_divisor": 1000,
       "unit_scale": false
      },
      "application/vnd.jupyter.widget-view+json": {
       "model_id": "969f64bb85774bb8b313796aa9ca123b",
       "version_major": 2,
       "version_minor": 0
      },
      "text/plain": [
       "  0%|          | 0/856 [00:00<?, ?it/s]"
      ]
     },
     "metadata": {},
     "output_type": "display_data"
    },
    {
     "data": {
      "text/plain": [
       "536"
      ]
     },
     "execution_count": 4,
     "metadata": {},
     "output_type": "execute_result"
    }
   ],
   "source": [
    "regen_imgs = [\"\"] * 1000\n",
    "for nid_str, nid in tqdm(zip(ctrld_nids_str, ctrld_nids), total=len(ctrld_nids)):\n",
    "    img_files = sorted([f for f in os.listdir(ctrld_dir+nid_str) if os.path.isfile(os.path.join(ctrld_dir+nid_str, f))])\n",
    "    flags = [False, False, False]\n",
    "    for img_file in img_files:\n",
    "        coef = int(img_file.split(\"_\")[2].split(\"memcoef\")[-1])\n",
    "        if coef == 0:\n",
    "            regen_imgs[nid] = img_file\n",
    "            flags[0] = True\n",
    "        elif coef > 0:\n",
    "            flags[1] = True\n",
    "        elif coef < 0:\n",
    "            flags[2] = True\n",
    "    if all(f == True for f in flags):\n",
    "        shutil.copytree(ctrld_dir+nid_str, dest_dir+nid_str, dirs_exist_ok=True)\n",
    "\n",
    "filtered_ctrld_nids_str = sorted([f for f in os.listdir(dest_dir) if os.path.isdir(os.path.join(dest_dir, f))])\n",
    "len(filtered_ctrld_nids_str)"
   ]
  },
  {
   "cell_type": "markdown",
   "id": "c75ae4bf-e8cb-4ae3-936a-7109a8b897a2",
   "metadata": {},
   "source": [
    "### Load both original NSD images and reconstructed images"
   ]
  },
  {
   "cell_type": "code",
   "execution_count": 5,
   "id": "f20c86f7-214c-4196-8fb1-fa501086261f",
   "metadata": {},
   "outputs": [
    {
     "name": "stdout",
     "output_type": "stream",
     "text": [
      "(1000, 3, 227, 227)\n"
     ]
    }
   ],
   "source": [
    "image_data = np.load(\"data/nsd/shared1000_227.npy\")\n",
    "image_data = image_data.astype(np.float32) / 255.\n",
    "print(image_data.shape)"
   ]
  },
  {
   "cell_type": "code",
   "execution_count": 6,
   "id": "0244f0d9-fff3-40f8-aecc-247d5d7b8d4a",
   "metadata": {},
   "outputs": [
    {
     "data": {
      "text/plain": [
       "(1000, 3, 227, 227)"
      ]
     },
     "execution_count": 6,
     "metadata": {},
     "output_type": "execute_result"
    }
   ],
   "source": [
    "regen_image_data = np.zeros_like(image_data)\n",
    "regen_image_data.shape"
   ]
  },
  {
   "cell_type": "code",
   "execution_count": 7,
   "id": "95d70322-d832-4e74-9170-898251903e0e",
   "metadata": {},
   "outputs": [
    {
     "name": "stdout",
     "output_type": "stream",
     "text": [
      "536 1000\n"
     ]
    }
   ],
   "source": [
    "filtered_ctrld_nids = sorted([int(f.split(\"shared\")[-1])-1 for f in filtered_ctrld_nids_str])\n",
    "\n",
    "print(len(filtered_ctrld_nids), len(regen_imgs))"
   ]
  },
  {
   "cell_type": "code",
   "execution_count": 8,
   "id": "0dd30842-8077-4fbf-a1a4-07c10f96c669",
   "metadata": {},
   "outputs": [
    {
     "data": {
      "text/plain": [
       "(1000, 3, 227, 227)"
      ]
     },
     "execution_count": 8,
     "metadata": {},
     "output_type": "execute_result"
    }
   ],
   "source": [
    "for i in range(1000):\n",
    "    if i in filtered_ctrld_nids:\n",
    "        regen_img = PIL.Image.open(dest_dir+f\"shared{i+1:04d}/{regen_imgs[i]}\").convert(\"RGB\").resize((227, 227))\n",
    "        regen_img = np.array(regen_img, dtype=np.float32) / 255.\n",
    "        regen_image_data[i] = regen_img.transpose((2, 0, 1))\n",
    "\n",
    "        # fig = plt.figure(figsize=(6,3))\n",
    "        \n",
    "        # ax1 = fig.add_subplot(1, 2, 1)\n",
    "        # ax1.imshow(image_data[i].transpose(1, 2, 0))\n",
    "        # ax1.axis('off')\n",
    "\n",
    "        # ax2 = fig.add_subplot(1, 2, 2)\n",
    "        # ax2.imshow(regen_image_data[i].transpose(1, 2, 0))\n",
    "        # ax2.axis('off')\n",
    "\n",
    "        # display.display(plt.gcf())\n",
    "        # time.sleep(0.1)\n",
    "        # plt.cla()\n",
    "        # display.clear_output(wait=True)\n",
    "\n",
    "regen_image_data.shape"
   ]
  },
  {
   "cell_type": "markdown",
   "id": "956c2236-1c5e-4f89-bebf-4362d8bafb33",
   "metadata": {},
   "source": [
    "### Measuring how well-reconstructed the image is"
   ]
  },
  {
   "cell_type": "code",
   "execution_count": 10,
   "id": "a3405b56-63b1-4344-9e7c-748123c8e772",
   "metadata": {},
   "outputs": [],
   "source": [
    "device = torch.device(\"cuda\")\n",
    "\n",
    "# fid = tmi.fid.FrechetInceptionDistance()\n",
    "# inception = tmi.inception.InceptionScore()\n",
    "psnr = tmi.PeakSignalNoiseRatio()\n",
    "ssim = tmi.StructuralSimilarityIndexMeasure()\n",
    "lpips = tmi.lpip.LearnedPerceptualImagePatchSimilarity()\n",
    "\n",
    "# fid = fid.to(device)\n",
    "# inception = inception.to(device)\n",
    "psnr = psnr.to(device)\n",
    "ssim = ssim.to(device)\n",
    "lpips = lpips.to(device)"
   ]
  },
  {
   "cell_type": "code",
   "execution_count": 11,
   "id": "4e9e0aff-3f6f-4729-8deb-012a95653d5c",
   "metadata": {},
   "outputs": [
    {
     "data": {
      "application/json": {
       "ascii": false,
       "bar_format": null,
       "colour": null,
       "elapsed": 0.00418543815612793,
       "initial": 0,
       "n": 0,
       "ncols": null,
       "nrows": 18,
       "postfix": null,
       "prefix": "",
       "rate": null,
       "total": 536,
       "unit": "it",
       "unit_divisor": 1000,
       "unit_scale": false
      },
      "application/vnd.jupyter.widget-view+json": {
       "model_id": "105bf4996b4e4d28990eb1430c8e2fc0",
       "version_major": 2,
       "version_minor": 0
      },
      "text/plain": [
       "  0%|          | 0/536 [00:00<?, ?it/s]"
      ]
     },
     "metadata": {},
     "output_type": "display_data"
    }
   ],
   "source": [
    "df_dict = {\"nsd_id\": [], \"psnr\": [], \"ssim\": [], \"lpips\": []}\n",
    "for nid_str, nid in tqdm(zip(filtered_ctrld_nids_str, filtered_ctrld_nids), total=len(filtered_ctrld_nids)):\n",
    "    df_dict[\"nsd_id\"].append(nid_str)\n",
    "    \n",
    "    img = torch.Tensor(image_data[nid]).to(device)\n",
    "    regen_img = torch.Tensor(regen_image_data[nid]).to(device)\n",
    "\n",
    "    img_lpips = torch.Tensor(2*(image_data[nid])-1).to(device)\n",
    "    regen_img_lpips = torch.Tensor(2*(regen_image_data[nid])-1).to(device)\n",
    "    \n",
    "    # fid.update(img.to(torch.uint8).unsqueeze(0), real=True)\n",
    "    # fid.update(regen_img.to(torch.uint8).unsqueeze(0), real=False)\n",
    "    # fid_score = fid.compute()\n",
    "    # df_dict[\"fid\"].append(fid_score)\n",
    "    # fid.reset()\n",
    "\n",
    "    psnr_score = psnr(img, regen_img)\n",
    "    df_dict[\"psnr\"].append(psnr_score.cpu().numpy())\n",
    "\n",
    "    ssim_score = ssim(img.unsqueeze(0), regen_img.unsqueeze(0))\n",
    "    df_dict[\"ssim\"].append(ssim_score.cpu().numpy())\n",
    "\n",
    "    lpips_score = lpips(img_lpips.unsqueeze(0), regen_img_lpips.unsqueeze(0))\n",
    "    df_dict[\"lpips\"].append(lpips_score.cpu().numpy())"
   ]
  },
  {
   "cell_type": "code",
   "execution_count": 12,
   "id": "2fb01fd4-a9c0-4afd-a155-d46364c8cc5d",
   "metadata": {},
   "outputs": [],
   "source": [
    "psnr_arr = np.array(df_dict[\"psnr\"])\n",
    "ssim_arr = np.array(df_dict[\"ssim\"])\n",
    "lpips_arr = np.array(df_dict[\"lpips\"])\n",
    "\n",
    "df_dict[\"psnr\"] = psnr_arr\n",
    "df_dict[\"ssim\"] = ssim_arr\n",
    "df_dict[\"lpips\"] = lpips_arr"
   ]
  },
  {
   "cell_type": "code",
   "execution_count": 13,
   "id": "08556910-b2d7-412f-a481-7c6b077d00b1",
   "metadata": {},
   "outputs": [
    {
     "data": {
      "text/html": [
       "<div>\n",
       "<style scoped>\n",
       "    .dataframe tbody tr th:only-of-type {\n",
       "        vertical-align: middle;\n",
       "    }\n",
       "\n",
       "    .dataframe tbody tr th {\n",
       "        vertical-align: top;\n",
       "    }\n",
       "\n",
       "    .dataframe thead th {\n",
       "        text-align: right;\n",
       "    }\n",
       "</style>\n",
       "<table border=\"1\" class=\"dataframe\">\n",
       "  <thead>\n",
       "    <tr style=\"text-align: right;\">\n",
       "      <th></th>\n",
       "      <th>nsd_id</th>\n",
       "      <th>psnr</th>\n",
       "      <th>ssim</th>\n",
       "      <th>lpips</th>\n",
       "    </tr>\n",
       "  </thead>\n",
       "  <tbody>\n",
       "    <tr>\n",
       "      <th>0</th>\n",
       "      <td>shared0001</td>\n",
       "      <td>18.256977</td>\n",
       "      <td>0.462741</td>\n",
       "      <td>0.495041</td>\n",
       "    </tr>\n",
       "    <tr>\n",
       "      <th>1</th>\n",
       "      <td>shared0003</td>\n",
       "      <td>28.019329</td>\n",
       "      <td>0.700960</td>\n",
       "      <td>0.067332</td>\n",
       "    </tr>\n",
       "    <tr>\n",
       "      <th>2</th>\n",
       "      <td>shared0004</td>\n",
       "      <td>25.291992</td>\n",
       "      <td>0.599016</td>\n",
       "      <td>0.153236</td>\n",
       "    </tr>\n",
       "    <tr>\n",
       "      <th>3</th>\n",
       "      <td>shared0005</td>\n",
       "      <td>28.588055</td>\n",
       "      <td>0.835572</td>\n",
       "      <td>0.052118</td>\n",
       "    </tr>\n",
       "    <tr>\n",
       "      <th>4</th>\n",
       "      <td>shared0008</td>\n",
       "      <td>23.693745</td>\n",
       "      <td>0.595102</td>\n",
       "      <td>0.169267</td>\n",
       "    </tr>\n",
       "  </tbody>\n",
       "</table>\n",
       "</div>"
      ],
      "text/plain": [
       "       nsd_id       psnr      ssim     lpips\n",
       "0  shared0001  18.256977  0.462741  0.495041\n",
       "1  shared0003  28.019329  0.700960  0.067332\n",
       "2  shared0004  25.291992  0.599016  0.153236\n",
       "3  shared0005  28.588055  0.835572  0.052118\n",
       "4  shared0008  23.693745  0.595102  0.169267"
      ]
     },
     "execution_count": 13,
     "metadata": {},
     "output_type": "execute_result"
    }
   ],
   "source": [
    "df = pd.DataFrame(df_dict).sort_values(by=\"nsd_id\")\n",
    "df.to_csv(dest_dir+\"reconstruction_quality_assessment.csv\", index=False)\n",
    "df.head()"
   ]
  },
  {
   "cell_type": "markdown",
   "id": "d7e1da5f-4e70-4309-8e2c-686dd6632281",
   "metadata": {
    "jp-MarkdownHeadingCollapsed": true
   },
   "source": [
    "### Getting top N%"
   ]
  },
  {
   "cell_type": "code",
   "execution_count": 9,
   "id": "31ccab51-50ea-4ba9-9852-779f3659a03a",
   "metadata": {},
   "outputs": [
    {
     "data": {
      "text/html": [
       "<div>\n",
       "<style scoped>\n",
       "    .dataframe tbody tr th:only-of-type {\n",
       "        vertical-align: middle;\n",
       "    }\n",
       "\n",
       "    .dataframe tbody tr th {\n",
       "        vertical-align: top;\n",
       "    }\n",
       "\n",
       "    .dataframe thead th {\n",
       "        text-align: right;\n",
       "    }\n",
       "</style>\n",
       "<table border=\"1\" class=\"dataframe\">\n",
       "  <thead>\n",
       "    <tr style=\"text-align: right;\">\n",
       "      <th></th>\n",
       "      <th>nsd_id</th>\n",
       "      <th>psnr</th>\n",
       "      <th>ssim</th>\n",
       "      <th>lpips</th>\n",
       "    </tr>\n",
       "  </thead>\n",
       "  <tbody>\n",
       "    <tr>\n",
       "      <th>0</th>\n",
       "      <td>shared0001</td>\n",
       "      <td>18.256977</td>\n",
       "      <td>0.462741</td>\n",
       "      <td>0.495041</td>\n",
       "    </tr>\n",
       "    <tr>\n",
       "      <th>1</th>\n",
       "      <td>shared0003</td>\n",
       "      <td>28.019330</td>\n",
       "      <td>0.700960</td>\n",
       "      <td>0.067332</td>\n",
       "    </tr>\n",
       "    <tr>\n",
       "      <th>2</th>\n",
       "      <td>shared0004</td>\n",
       "      <td>25.291992</td>\n",
       "      <td>0.599016</td>\n",
       "      <td>0.153236</td>\n",
       "    </tr>\n",
       "    <tr>\n",
       "      <th>3</th>\n",
       "      <td>shared0005</td>\n",
       "      <td>28.588055</td>\n",
       "      <td>0.835572</td>\n",
       "      <td>0.052118</td>\n",
       "    </tr>\n",
       "    <tr>\n",
       "      <th>4</th>\n",
       "      <td>shared0008</td>\n",
       "      <td>23.693745</td>\n",
       "      <td>0.595102</td>\n",
       "      <td>0.169267</td>\n",
       "    </tr>\n",
       "  </tbody>\n",
       "</table>\n",
       "</div>"
      ],
      "text/plain": [
       "       nsd_id       psnr      ssim     lpips\n",
       "0  shared0001  18.256977  0.462741  0.495041\n",
       "1  shared0003  28.019330  0.700960  0.067332\n",
       "2  shared0004  25.291992  0.599016  0.153236\n",
       "3  shared0005  28.588055  0.835572  0.052118\n",
       "4  shared0008  23.693745  0.595102  0.169267"
      ]
     },
     "execution_count": 9,
     "metadata": {},
     "output_type": "execute_result"
    }
   ],
   "source": [
    "df = pd.read_csv(\"data/memorability_controlled_filtered/reconstruction_quality_assessment.csv\")\n",
    "df.head()"
   ]
  },
  {
   "cell_type": "code",
   "execution_count": 10,
   "id": "501928a2-b21b-41fa-afb7-ac4ae9fa34ad",
   "metadata": {},
   "outputs": [
    {
     "data": {
      "text/html": [
       "<div>\n",
       "<style scoped>\n",
       "    .dataframe tbody tr th:only-of-type {\n",
       "        vertical-align: middle;\n",
       "    }\n",
       "\n",
       "    .dataframe tbody tr th {\n",
       "        vertical-align: top;\n",
       "    }\n",
       "\n",
       "    .dataframe thead th {\n",
       "        text-align: right;\n",
       "    }\n",
       "</style>\n",
       "<table border=\"1\" class=\"dataframe\">\n",
       "  <thead>\n",
       "    <tr style=\"text-align: right;\">\n",
       "      <th></th>\n",
       "      <th>nsd_id</th>\n",
       "      <th>psnr</th>\n",
       "      <th>ssim</th>\n",
       "      <th>lpips</th>\n",
       "    </tr>\n",
       "  </thead>\n",
       "  <tbody>\n",
       "    <tr>\n",
       "      <th>416</th>\n",
       "      <td>shared0753</td>\n",
       "      <td>36.775734</td>\n",
       "      <td>0.945634</td>\n",
       "      <td>0.055398</td>\n",
       "    </tr>\n",
       "    <tr>\n",
       "      <th>490</th>\n",
       "      <td>shared0913</td>\n",
       "      <td>36.718680</td>\n",
       "      <td>0.935013</td>\n",
       "      <td>0.023489</td>\n",
       "    </tr>\n",
       "    <tr>\n",
       "      <th>358</th>\n",
       "      <td>shared0633</td>\n",
       "      <td>36.090010</td>\n",
       "      <td>0.969828</td>\n",
       "      <td>0.019457</td>\n",
       "    </tr>\n",
       "    <tr>\n",
       "      <th>420</th>\n",
       "      <td>shared0758</td>\n",
       "      <td>35.099083</td>\n",
       "      <td>0.944504</td>\n",
       "      <td>0.016743</td>\n",
       "    </tr>\n",
       "    <tr>\n",
       "      <th>396</th>\n",
       "      <td>shared0711</td>\n",
       "      <td>34.620740</td>\n",
       "      <td>0.896321</td>\n",
       "      <td>0.088053</td>\n",
       "    </tr>\n",
       "  </tbody>\n",
       "</table>\n",
       "</div>"
      ],
      "text/plain": [
       "         nsd_id       psnr      ssim     lpips\n",
       "416  shared0753  36.775734  0.945634  0.055398\n",
       "490  shared0913  36.718680  0.935013  0.023489\n",
       "358  shared0633  36.090010  0.969828  0.019457\n",
       "420  shared0758  35.099083  0.944504  0.016743\n",
       "396  shared0711  34.620740  0.896321  0.088053"
      ]
     },
     "execution_count": 10,
     "metadata": {},
     "output_type": "execute_result"
    }
   ],
   "source": [
    "assessment_df = df.sort_values(by=[\"psnr\", \"ssim\", \"lpips\"], ascending=[False, False, True])\n",
    "assessment_df.head()"
   ]
  },
  {
   "cell_type": "code",
   "execution_count": 11,
   "id": "23114300-dc06-41aa-b8a2-94261f0d7396",
   "metadata": {},
   "outputs": [
    {
     "name": "stdout",
     "output_type": "stream",
     "text": [
      "PSNR mean: 26.41900876772388\n",
      "SSIM mean: 0.7691157599813432\n",
      "LPIPS mean: 0.1390372941921642\n"
     ]
    }
   ],
   "source": [
    "print(\"PSNR mean:\", assessment_df[\"psnr\"].mean())\n",
    "print(\"SSIM mean:\", assessment_df[\"ssim\"].mean())\n",
    "print(\"LPIPS mean:\", assessment_df[\"lpips\"].mean())"
   ]
  },
  {
   "cell_type": "code",
   "execution_count": 12,
   "id": "0f53ed7d-ae74-4378-9965-43ba67fe2a29",
   "metadata": {},
   "outputs": [
    {
     "name": "stdout",
     "output_type": "stream",
     "text": [
      "428\n"
     ]
    }
   ],
   "source": [
    "ctrld_nids = assessment_df[\"nsd_id\"][:int(df.shape[0]*0.8)].values\n",
    "# ctrld_nids = assessment_df[assessment_df[\"psnr\"] > assessment_df[\"psnr\"].quantile(0.25)][\"nsd_id\"].values\n",
    "ctrld_nids = sorted([int(cnid.split(\"shared\")[-1])-1 for cnid in ctrld_nids])\n",
    "# print(sorted(ctrld_nids)[:100])\n",
    "print(len(ctrld_nids))"
   ]
  },
  {
   "cell_type": "code",
   "execution_count": 13,
   "id": "17465e52-ba6e-47e3-bdb7-c56e435812f4",
   "metadata": {},
   "outputs": [],
   "source": [
    "device = torch.device(\"cuda:1\")\n",
    "model = CLIPModel.from_pretrained(\"openai/clip-vit-base-patch32\").to(device)\n",
    "processor = CLIPProcessor.from_pretrained(\"openai/clip-vit-base-patch32\")\n",
    "\n",
    "psnr = tmi.PeakSignalNoiseRatio()\n",
    "ssim = tmi.StructuralSimilarityIndexMeasure()\n",
    "lpips = tmi.lpip.LearnedPerceptualImagePatchSimilarity()\n",
    "\n",
    "psnr = psnr.to(device)\n",
    "ssim = ssim.to(device)\n",
    "lpips = lpips.to(device)"
   ]
  },
  {
   "cell_type": "code",
   "execution_count": 14,
   "id": "66982134-4f0f-4080-a558-070e4d2aa927",
   "metadata": {},
   "outputs": [
    {
     "data": {
      "application/json": {
       "ascii": false,
       "bar_format": null,
       "colour": null,
       "elapsed": 0.002987384796142578,
       "initial": 0,
       "n": 0,
       "ncols": null,
       "nrows": 17,
       "postfix": null,
       "prefix": "",
       "rate": null,
       "total": 428,
       "unit": "it",
       "unit_divisor": 1000,
       "unit_scale": false
      },
      "application/vnd.jupyter.widget-view+json": {
       "model_id": "02d72f566cf945f2b5c9d9421cf075b8",
       "version_major": 2,
       "version_minor": 0
      },
      "text/plain": [
       "  0%|          | 0/428 [00:00<?, ?it/s]"
      ]
     },
     "metadata": {},
     "output_type": "display_data"
    }
   ],
   "source": [
    "df_dict = {\"nsd_id\": [], \"mem_coef\": [], \"memorability\": [], \"CLIP_cos\": [], \"psnr\": [], \"ssim\": [], \"lpips\": [], \"filename\": []}\n",
    "for cnid in tqdm(ctrld_nids):\n",
    "    cnid_str = f\"shared{cnid+1:04d}\"\n",
    "    \n",
    "    img_files = sorted([f for f in os.listdir(dest_dir+cnid_str) if os.path.isfile(os.path.join(dest_dir+cnid_str, f))])\n",
    "    recon_img = regen_image_data[cnid]\n",
    "\n",
    "    img = torch.Tensor(recon_img).to(device)\n",
    "    img_lpips = torch.Tensor(2*(recon_img)-1).to(device)\n",
    "    \n",
    "    for img_file in img_files:\n",
    "        df_dict[\"nsd_id\"].append(cnid_str)\n",
    "        cols = img_file.split(\"_\")\n",
    "        \n",
    "        mem_coef = int(cols[2].split(\"memcoef\")[-1])\n",
    "        memorability = float(cols[3].split(\"memscore\")[-1].split(\".png\")[0])\n",
    "\n",
    "        df_dict[\"mem_coef\"].append(mem_coef)\n",
    "        df_dict[\"memorability\"].append(memorability)\n",
    "        df_dict[\"filename\"].append(img_file)\n",
    "        \n",
    "        if \"memcoef0\" in img_file:\n",
    "            df_dict[\"CLIP_cos\"].append(np.nan)\n",
    "            df_dict[\"psnr\"].append(np.nan)\n",
    "            df_dict[\"ssim\"].append(np.nan)\n",
    "            df_dict[\"lpips\"].append(np.nan)\n",
    "            continue\n",
    "        else:\n",
    "            recon_img_clip = PIL.Image.fromarray(recon_img.transpose(1, 2, 0), \"RGB\")\n",
    "            img_cmp = PIL.Image.open(dest_dir+f\"{cnid_str}/{img_file}\").convert(\"RGB\").resize((227, 227))\n",
    "            \n",
    "            inputs = processor(images=[recon_img_clip, img_cmp], return_tensors=\"pt\")[\"pixel_values\"].to(device)\n",
    "            with torch.no_grad():\n",
    "                outputs = model.get_image_features(inputs)\n",
    "            \n",
    "            cosine_similarity = F.cosine_similarity(outputs[0].unsqueeze(0), outputs[1].unsqueeze(0)).item()\n",
    "            df_dict[\"CLIP_cos\"].append(cosine_similarity)\n",
    "\n",
    "            img_cmp = np.array(img_cmp, dtype=np.float32) / 255.\n",
    "            img_cmp = img_cmp.transpose((2, 0, 1))\n",
    "        \n",
    "            img_cmp = torch.Tensor(img_cmp).to(device)\n",
    "            img_cmp_lpips = torch.Tensor(2*(img_cmp)-1).to(device)\n",
    "    \n",
    "            psnr_score = psnr(img, img_cmp)\n",
    "            df_dict[\"psnr\"].append(psnr_score.cpu().numpy())\n",
    "        \n",
    "            ssim_score = ssim(img.unsqueeze(0), img_cmp.unsqueeze(0))\n",
    "            df_dict[\"ssim\"].append(ssim_score.cpu().numpy())\n",
    "        \n",
    "            lpips_score = lpips(img_lpips.unsqueeze(0), img_cmp_lpips.unsqueeze(0))\n",
    "            df_dict[\"lpips\"].append(lpips_score.cpu().numpy())"
   ]
  },
  {
   "cell_type": "code",
   "execution_count": 15,
   "id": "717fc62a-fa74-45d0-8c48-05f9e9440529",
   "metadata": {},
   "outputs": [],
   "source": [
    "clip_arr = np.array(df_dict[\"CLIP_cos\"])\n",
    "psnr_arr = np.array(df_dict[\"psnr\"])\n",
    "ssim_arr = np.array(df_dict[\"ssim\"])\n",
    "lpips_arr = np.array(df_dict[\"lpips\"])\n",
    "\n",
    "df_dict[\"CLIP_cos\"] = clip_arr\n",
    "df_dict[\"psnr\"] = psnr_arr\n",
    "df_dict[\"ssim\"] = ssim_arr\n",
    "df_dict[\"lpips\"] = lpips_arr"
   ]
  },
  {
   "cell_type": "markdown",
   "id": "ac18ac7c-f432-47a3-b180-2586f94102df",
   "metadata": {},
   "source": [
    "### Load dataframe"
   ]
  },
  {
   "cell_type": "code",
   "execution_count": 40,
   "id": "780e3f0a-41ff-4bfd-aa98-d77e186a8348",
   "metadata": {},
   "outputs": [
    {
     "name": "stdout",
     "output_type": "stream",
     "text": [
      "(4552, 8)\n"
     ]
    },
    {
     "data": {
      "text/html": [
       "<div>\n",
       "<style scoped>\n",
       "    .dataframe tbody tr th:only-of-type {\n",
       "        vertical-align: middle;\n",
       "    }\n",
       "\n",
       "    .dataframe tbody tr th {\n",
       "        vertical-align: top;\n",
       "    }\n",
       "\n",
       "    .dataframe thead th {\n",
       "        text-align: right;\n",
       "    }\n",
       "</style>\n",
       "<table border=\"1\" class=\"dataframe\">\n",
       "  <thead>\n",
       "    <tr style=\"text-align: right;\">\n",
       "      <th></th>\n",
       "      <th>nsd_id</th>\n",
       "      <th>mem_coef</th>\n",
       "      <th>memorability</th>\n",
       "      <th>CLIP_cos</th>\n",
       "      <th>psnr</th>\n",
       "      <th>ssim</th>\n",
       "      <th>lpips</th>\n",
       "      <th>filename</th>\n",
       "    </tr>\n",
       "  </thead>\n",
       "  <tbody>\n",
       "    <tr>\n",
       "      <th>0</th>\n",
       "      <td>shared0003</td>\n",
       "      <td>-100</td>\n",
       "      <td>0.2909</td>\n",
       "      <td>0.789809</td>\n",
       "      <td>9.911534</td>\n",
       "      <td>0.120471</td>\n",
       "      <td>0.620343</td>\n",
       "      <td>shared0003_class842_memcoef-100_memscore0.2909...</td>\n",
       "    </tr>\n",
       "    <tr>\n",
       "      <th>1</th>\n",
       "      <td>shared0003</td>\n",
       "      <td>-120</td>\n",
       "      <td>0.4004</td>\n",
       "      <td>0.774519</td>\n",
       "      <td>8.993790</td>\n",
       "      <td>0.111636</td>\n",
       "      <td>0.660352</td>\n",
       "      <td>shared0003_class842_memcoef-120_memscore0.4004...</td>\n",
       "    </tr>\n",
       "    <tr>\n",
       "      <th>2</th>\n",
       "      <td>shared0003</td>\n",
       "      <td>-140</td>\n",
       "      <td>0.4981</td>\n",
       "      <td>0.747994</td>\n",
       "      <td>8.297734</td>\n",
       "      <td>0.111087</td>\n",
       "      <td>0.695950</td>\n",
       "      <td>shared0003_class842_memcoef-140_memscore0.4981...</td>\n",
       "    </tr>\n",
       "    <tr>\n",
       "      <th>3</th>\n",
       "      <td>shared0003</td>\n",
       "      <td>-20</td>\n",
       "      <td>0.4086</td>\n",
       "      <td>0.575182</td>\n",
       "      <td>18.347147</td>\n",
       "      <td>0.328876</td>\n",
       "      <td>0.228901</td>\n",
       "      <td>shared0003_class842_memcoef-20_memscore0.4086.png</td>\n",
       "    </tr>\n",
       "    <tr>\n",
       "      <th>4</th>\n",
       "      <td>shared0003</td>\n",
       "      <td>-40</td>\n",
       "      <td>0.3685</td>\n",
       "      <td>0.747492</td>\n",
       "      <td>15.237259</td>\n",
       "      <td>0.234054</td>\n",
       "      <td>0.333727</td>\n",
       "      <td>shared0003_class842_memcoef-40_memscore0.3685.png</td>\n",
       "    </tr>\n",
       "  </tbody>\n",
       "</table>\n",
       "</div>"
      ],
      "text/plain": [
       "       nsd_id  mem_coef  memorability  CLIP_cos       psnr      ssim  \\\n",
       "0  shared0003      -100        0.2909  0.789809   9.911534  0.120471   \n",
       "1  shared0003      -120        0.4004  0.774519   8.993790  0.111636   \n",
       "2  shared0003      -140        0.4981  0.747994   8.297734  0.111087   \n",
       "3  shared0003       -20        0.4086  0.575182  18.347147  0.328876   \n",
       "4  shared0003       -40        0.3685  0.747492  15.237259  0.234054   \n",
       "\n",
       "      lpips                                           filename  \n",
       "0  0.620343  shared0003_class842_memcoef-100_memscore0.2909...  \n",
       "1  0.660352  shared0003_class842_memcoef-120_memscore0.4004...  \n",
       "2  0.695950  shared0003_class842_memcoef-140_memscore0.4981...  \n",
       "3  0.228901  shared0003_class842_memcoef-20_memscore0.4086.png  \n",
       "4  0.333727  shared0003_class842_memcoef-40_memscore0.3685.png  "
      ]
     },
     "execution_count": 40,
     "metadata": {},
     "output_type": "execute_result"
    }
   ],
   "source": [
    "# filter_df = pd.DataFrame(df_dict).sort_values(by=\"nsd_id\")\n",
    "# filter_df.to_csv(dest_dir+\"top70p_disruption_check.csv\", index=False)\n",
    "filter_df = pd.read_csv(dest_dir+\"top70p_disruption_check.csv\")\n",
    "print(filter_df.shape)\n",
    "filter_df.head()"
   ]
  },
  {
   "cell_type": "code",
   "execution_count": 41,
   "id": "11623ca7-8174-4abf-b2cd-539f7b2ed8b1",
   "metadata": {},
   "outputs": [
    {
     "data": {
      "text/html": [
       "<div>\n",
       "<style scoped>\n",
       "    .dataframe tbody tr th:only-of-type {\n",
       "        vertical-align: middle;\n",
       "    }\n",
       "\n",
       "    .dataframe tbody tr th {\n",
       "        vertical-align: top;\n",
       "    }\n",
       "\n",
       "    .dataframe thead th {\n",
       "        text-align: right;\n",
       "    }\n",
       "</style>\n",
       "<table border=\"1\" class=\"dataframe\">\n",
       "  <thead>\n",
       "    <tr style=\"text-align: right;\">\n",
       "      <th></th>\n",
       "      <th>memorability</th>\n",
       "      <th>nsd_id</th>\n",
       "      <th>mem_coef</th>\n",
       "      <th>CLIP_cos</th>\n",
       "      <th>psnr</th>\n",
       "      <th>ssim</th>\n",
       "      <th>lpips</th>\n",
       "      <th>filename</th>\n",
       "    </tr>\n",
       "  </thead>\n",
       "  <tbody>\n",
       "    <tr>\n",
       "      <th>2</th>\n",
       "      <td>0.542597</td>\n",
       "      <td>shared0003</td>\n",
       "      <td>0</td>\n",
       "      <td>NaN</td>\n",
       "      <td>NaN</td>\n",
       "      <td>NaN</td>\n",
       "      <td>NaN</td>\n",
       "      <td></td>\n",
       "    </tr>\n",
       "    <tr>\n",
       "      <th>3</th>\n",
       "      <td>0.705648</td>\n",
       "      <td>shared0004</td>\n",
       "      <td>0</td>\n",
       "      <td>NaN</td>\n",
       "      <td>NaN</td>\n",
       "      <td>NaN</td>\n",
       "      <td>NaN</td>\n",
       "      <td></td>\n",
       "    </tr>\n",
       "    <tr>\n",
       "      <th>4</th>\n",
       "      <td>0.609077</td>\n",
       "      <td>shared0005</td>\n",
       "      <td>0</td>\n",
       "      <td>NaN</td>\n",
       "      <td>NaN</td>\n",
       "      <td>NaN</td>\n",
       "      <td>NaN</td>\n",
       "      <td></td>\n",
       "    </tr>\n",
       "    <tr>\n",
       "      <th>12</th>\n",
       "      <td>0.647513</td>\n",
       "      <td>shared0013</td>\n",
       "      <td>0</td>\n",
       "      <td>NaN</td>\n",
       "      <td>NaN</td>\n",
       "      <td>NaN</td>\n",
       "      <td>NaN</td>\n",
       "      <td></td>\n",
       "    </tr>\n",
       "    <tr>\n",
       "      <th>13</th>\n",
       "      <td>0.684465</td>\n",
       "      <td>shared0014</td>\n",
       "      <td>0</td>\n",
       "      <td>NaN</td>\n",
       "      <td>NaN</td>\n",
       "      <td>NaN</td>\n",
       "      <td>NaN</td>\n",
       "      <td></td>\n",
       "    </tr>\n",
       "  </tbody>\n",
       "</table>\n",
       "</div>"
      ],
      "text/plain": [
       "    memorability      nsd_id  mem_coef  CLIP_cos  psnr  ssim  lpips filename\n",
       "2       0.542597  shared0003         0       NaN   NaN   NaN    NaN         \n",
       "3       0.705648  shared0004         0       NaN   NaN   NaN    NaN         \n",
       "4       0.609077  shared0005         0       NaN   NaN   NaN    NaN         \n",
       "12      0.647513  shared0013         0       NaN   NaN   NaN    NaN         \n",
       "13      0.684465  shared0014         0       NaN   NaN   NaN    NaN         "
      ]
     },
     "execution_count": 41,
     "metadata": {},
     "output_type": "execute_result"
    }
   ],
   "source": [
    "mem_df = pd.read_csv(\"data/shared1000_memorability.csv\")\n",
    "mem_df[\"nsd_id\"] = [f\"shared{nid+1:04d}\" for nid in mem_df[\"nid\"]]\n",
    "mem_df[\"mem_coef\"] = 0\n",
    "mem_df[\"CLIP_cos\"] = np.nan\n",
    "mem_df[\"psnr\"] = np.nan\n",
    "mem_df[\"ssim\"] = np.nan\n",
    "mem_df[\"lpips\"] = np.nan\n",
    "mem_df[\"filename\"] = \"\"\n",
    "mem_df.drop([\"nid\"], axis=1, inplace=True)\n",
    "mem_df = mem_df[mem_df[\"nsd_id\"].isin(filter_df[\"nsd_id\"].values.tolist())]\n",
    "mem_df.head()"
   ]
  },
  {
   "cell_type": "code",
   "execution_count": 42,
   "id": "6c86804f-84cd-4128-bdd8-a8de441ed8f9",
   "metadata": {},
   "outputs": [
    {
     "name": "stdout",
     "output_type": "stream",
     "text": [
      "(4927, 8)\n"
     ]
    },
    {
     "data": {
      "text/html": [
       "<div>\n",
       "<style scoped>\n",
       "    .dataframe tbody tr th:only-of-type {\n",
       "        vertical-align: middle;\n",
       "    }\n",
       "\n",
       "    .dataframe tbody tr th {\n",
       "        vertical-align: top;\n",
       "    }\n",
       "\n",
       "    .dataframe thead th {\n",
       "        text-align: right;\n",
       "    }\n",
       "</style>\n",
       "<table border=\"1\" class=\"dataframe\">\n",
       "  <thead>\n",
       "    <tr style=\"text-align: right;\">\n",
       "      <th></th>\n",
       "      <th>nsd_id</th>\n",
       "      <th>mem_coef</th>\n",
       "      <th>memorability</th>\n",
       "      <th>CLIP_cos</th>\n",
       "      <th>psnr</th>\n",
       "      <th>ssim</th>\n",
       "      <th>lpips</th>\n",
       "      <th>filename</th>\n",
       "    </tr>\n",
       "  </thead>\n",
       "  <tbody>\n",
       "    <tr>\n",
       "      <th>0</th>\n",
       "      <td>shared0003</td>\n",
       "      <td>-140</td>\n",
       "      <td>0.498100</td>\n",
       "      <td>0.747994</td>\n",
       "      <td>8.297734</td>\n",
       "      <td>0.111087</td>\n",
       "      <td>0.695950</td>\n",
       "      <td>shared0003_class842_memcoef-140_memscore0.4981...</td>\n",
       "    </tr>\n",
       "    <tr>\n",
       "      <th>1</th>\n",
       "      <td>shared0003</td>\n",
       "      <td>-120</td>\n",
       "      <td>0.400400</td>\n",
       "      <td>0.774519</td>\n",
       "      <td>8.993790</td>\n",
       "      <td>0.111636</td>\n",
       "      <td>0.660352</td>\n",
       "      <td>shared0003_class842_memcoef-120_memscore0.4004...</td>\n",
       "    </tr>\n",
       "    <tr>\n",
       "      <th>2</th>\n",
       "      <td>shared0003</td>\n",
       "      <td>-100</td>\n",
       "      <td>0.290900</td>\n",
       "      <td>0.789809</td>\n",
       "      <td>9.911534</td>\n",
       "      <td>0.120471</td>\n",
       "      <td>0.620343</td>\n",
       "      <td>shared0003_class842_memcoef-100_memscore0.2909...</td>\n",
       "    </tr>\n",
       "    <tr>\n",
       "      <th>3</th>\n",
       "      <td>shared0003</td>\n",
       "      <td>-80</td>\n",
       "      <td>0.347900</td>\n",
       "      <td>0.802856</td>\n",
       "      <td>11.277809</td>\n",
       "      <td>0.137100</td>\n",
       "      <td>0.544818</td>\n",
       "      <td>shared0003_class842_memcoef-80_memscore0.3479.png</td>\n",
       "    </tr>\n",
       "    <tr>\n",
       "      <th>4</th>\n",
       "      <td>shared0003</td>\n",
       "      <td>-60</td>\n",
       "      <td>0.321200</td>\n",
       "      <td>0.770194</td>\n",
       "      <td>13.071339</td>\n",
       "      <td>0.178875</td>\n",
       "      <td>0.424511</td>\n",
       "      <td>shared0003_class842_memcoef-60_memscore0.3212.png</td>\n",
       "    </tr>\n",
       "    <tr>\n",
       "      <th>5</th>\n",
       "      <td>shared0003</td>\n",
       "      <td>-40</td>\n",
       "      <td>0.368500</td>\n",
       "      <td>0.747492</td>\n",
       "      <td>15.237259</td>\n",
       "      <td>0.234054</td>\n",
       "      <td>0.333727</td>\n",
       "      <td>shared0003_class842_memcoef-40_memscore0.3685.png</td>\n",
       "    </tr>\n",
       "    <tr>\n",
       "      <th>6</th>\n",
       "      <td>shared0003</td>\n",
       "      <td>-20</td>\n",
       "      <td>0.408600</td>\n",
       "      <td>0.575182</td>\n",
       "      <td>18.347147</td>\n",
       "      <td>0.328876</td>\n",
       "      <td>0.228901</td>\n",
       "      <td>shared0003_class842_memcoef-20_memscore0.4086.png</td>\n",
       "    </tr>\n",
       "    <tr>\n",
       "      <th>7</th>\n",
       "      <td>shared0003</td>\n",
       "      <td>0</td>\n",
       "      <td>0.553800</td>\n",
       "      <td>NaN</td>\n",
       "      <td>NaN</td>\n",
       "      <td>NaN</td>\n",
       "      <td>NaN</td>\n",
       "      <td>shared0003_class842_memcoef0_memscore0.5538.png</td>\n",
       "    </tr>\n",
       "    <tr>\n",
       "      <th>8</th>\n",
       "      <td>shared0003</td>\n",
       "      <td>0</td>\n",
       "      <td>0.542597</td>\n",
       "      <td>NaN</td>\n",
       "      <td>NaN</td>\n",
       "      <td>NaN</td>\n",
       "      <td>NaN</td>\n",
       "      <td></td>\n",
       "    </tr>\n",
       "    <tr>\n",
       "      <th>9</th>\n",
       "      <td>shared0003</td>\n",
       "      <td>120</td>\n",
       "      <td>0.596800</td>\n",
       "      <td>0.807628</td>\n",
       "      <td>13.392188</td>\n",
       "      <td>0.504416</td>\n",
       "      <td>0.798299</td>\n",
       "      <td>shared0003_class842_memcoef120_memscore0.5968.png</td>\n",
       "    </tr>\n",
       "    <tr>\n",
       "      <th>10</th>\n",
       "      <td>shared0003</td>\n",
       "      <td>140</td>\n",
       "      <td>0.593100</td>\n",
       "      <td>0.823007</td>\n",
       "      <td>12.086937</td>\n",
       "      <td>0.504419</td>\n",
       "      <td>0.927232</td>\n",
       "      <td>shared0003_class842_memcoef140_memscore0.5931.png</td>\n",
       "    </tr>\n",
       "    <tr>\n",
       "      <th>11</th>\n",
       "      <td>shared0003</td>\n",
       "      <td>160</td>\n",
       "      <td>0.663500</td>\n",
       "      <td>0.828796</td>\n",
       "      <td>7.892275</td>\n",
       "      <td>0.475838</td>\n",
       "      <td>1.055101</td>\n",
       "      <td>shared0003_class842_memcoef160_memscore0.6635.png</td>\n",
       "    </tr>\n",
       "    <tr>\n",
       "      <th>12</th>\n",
       "      <td>shared0004</td>\n",
       "      <td>-160</td>\n",
       "      <td>0.305200</td>\n",
       "      <td>0.647753</td>\n",
       "      <td>10.255191</td>\n",
       "      <td>0.315389</td>\n",
       "      <td>0.767392</td>\n",
       "      <td>shared0004_class484_memcoef-160_memscore0.3052...</td>\n",
       "    </tr>\n",
       "    <tr>\n",
       "      <th>13</th>\n",
       "      <td>shared0004</td>\n",
       "      <td>-140</td>\n",
       "      <td>0.286100</td>\n",
       "      <td>0.711655</td>\n",
       "      <td>10.864309</td>\n",
       "      <td>0.322119</td>\n",
       "      <td>0.738796</td>\n",
       "      <td>shared0004_class484_memcoef-140_memscore0.2861...</td>\n",
       "    </tr>\n",
       "    <tr>\n",
       "      <th>14</th>\n",
       "      <td>shared0004</td>\n",
       "      <td>-120</td>\n",
       "      <td>0.281100</td>\n",
       "      <td>0.679960</td>\n",
       "      <td>11.704458</td>\n",
       "      <td>0.322644</td>\n",
       "      <td>0.692441</td>\n",
       "      <td>shared0004_class484_memcoef-120_memscore0.2811...</td>\n",
       "    </tr>\n",
       "    <tr>\n",
       "      <th>15</th>\n",
       "      <td>shared0004</td>\n",
       "      <td>-100</td>\n",
       "      <td>0.303900</td>\n",
       "      <td>0.742000</td>\n",
       "      <td>12.876705</td>\n",
       "      <td>0.327937</td>\n",
       "      <td>0.643711</td>\n",
       "      <td>shared0004_class484_memcoef-100_memscore0.3039...</td>\n",
       "    </tr>\n",
       "    <tr>\n",
       "      <th>16</th>\n",
       "      <td>shared0004</td>\n",
       "      <td>-80</td>\n",
       "      <td>0.305600</td>\n",
       "      <td>0.742390</td>\n",
       "      <td>14.382224</td>\n",
       "      <td>0.353902</td>\n",
       "      <td>0.574287</td>\n",
       "      <td>shared0004_class484_memcoef-80_memscore0.3056.png</td>\n",
       "    </tr>\n",
       "    <tr>\n",
       "      <th>17</th>\n",
       "      <td>shared0004</td>\n",
       "      <td>-60</td>\n",
       "      <td>0.316000</td>\n",
       "      <td>0.696129</td>\n",
       "      <td>15.479836</td>\n",
       "      <td>0.368911</td>\n",
       "      <td>0.539336</td>\n",
       "      <td>shared0004_class484_memcoef-60_memscore0.3160.png</td>\n",
       "    </tr>\n",
       "    <tr>\n",
       "      <th>18</th>\n",
       "      <td>shared0004</td>\n",
       "      <td>-40</td>\n",
       "      <td>0.425500</td>\n",
       "      <td>0.753049</td>\n",
       "      <td>16.600336</td>\n",
       "      <td>0.377736</td>\n",
       "      <td>0.469069</td>\n",
       "      <td>shared0004_class484_memcoef-40_memscore0.4255.png</td>\n",
       "    </tr>\n",
       "    <tr>\n",
       "      <th>19</th>\n",
       "      <td>shared0004</td>\n",
       "      <td>-20</td>\n",
       "      <td>0.552100</td>\n",
       "      <td>0.627220</td>\n",
       "      <td>18.563526</td>\n",
       "      <td>0.412744</td>\n",
       "      <td>0.298176</td>\n",
       "      <td>shared0004_class484_memcoef-20_memscore0.5521.png</td>\n",
       "    </tr>\n",
       "  </tbody>\n",
       "</table>\n",
       "</div>"
      ],
      "text/plain": [
       "        nsd_id  mem_coef  memorability  CLIP_cos       psnr      ssim  \\\n",
       "0   shared0003      -140      0.498100  0.747994   8.297734  0.111087   \n",
       "1   shared0003      -120      0.400400  0.774519   8.993790  0.111636   \n",
       "2   shared0003      -100      0.290900  0.789809   9.911534  0.120471   \n",
       "3   shared0003       -80      0.347900  0.802856  11.277809  0.137100   \n",
       "4   shared0003       -60      0.321200  0.770194  13.071339  0.178875   \n",
       "5   shared0003       -40      0.368500  0.747492  15.237259  0.234054   \n",
       "6   shared0003       -20      0.408600  0.575182  18.347147  0.328876   \n",
       "7   shared0003         0      0.553800       NaN        NaN       NaN   \n",
       "8   shared0003         0      0.542597       NaN        NaN       NaN   \n",
       "9   shared0003       120      0.596800  0.807628  13.392188  0.504416   \n",
       "10  shared0003       140      0.593100  0.823007  12.086937  0.504419   \n",
       "11  shared0003       160      0.663500  0.828796   7.892275  0.475838   \n",
       "12  shared0004      -160      0.305200  0.647753  10.255191  0.315389   \n",
       "13  shared0004      -140      0.286100  0.711655  10.864309  0.322119   \n",
       "14  shared0004      -120      0.281100  0.679960  11.704458  0.322644   \n",
       "15  shared0004      -100      0.303900  0.742000  12.876705  0.327937   \n",
       "16  shared0004       -80      0.305600  0.742390  14.382224  0.353902   \n",
       "17  shared0004       -60      0.316000  0.696129  15.479836  0.368911   \n",
       "18  shared0004       -40      0.425500  0.753049  16.600336  0.377736   \n",
       "19  shared0004       -20      0.552100  0.627220  18.563526  0.412744   \n",
       "\n",
       "       lpips                                           filename  \n",
       "0   0.695950  shared0003_class842_memcoef-140_memscore0.4981...  \n",
       "1   0.660352  shared0003_class842_memcoef-120_memscore0.4004...  \n",
       "2   0.620343  shared0003_class842_memcoef-100_memscore0.2909...  \n",
       "3   0.544818  shared0003_class842_memcoef-80_memscore0.3479.png  \n",
       "4   0.424511  shared0003_class842_memcoef-60_memscore0.3212.png  \n",
       "5   0.333727  shared0003_class842_memcoef-40_memscore0.3685.png  \n",
       "6   0.228901  shared0003_class842_memcoef-20_memscore0.4086.png  \n",
       "7        NaN    shared0003_class842_memcoef0_memscore0.5538.png  \n",
       "8        NaN                                                     \n",
       "9   0.798299  shared0003_class842_memcoef120_memscore0.5968.png  \n",
       "10  0.927232  shared0003_class842_memcoef140_memscore0.5931.png  \n",
       "11  1.055101  shared0003_class842_memcoef160_memscore0.6635.png  \n",
       "12  0.767392  shared0004_class484_memcoef-160_memscore0.3052...  \n",
       "13  0.738796  shared0004_class484_memcoef-140_memscore0.2861...  \n",
       "14  0.692441  shared0004_class484_memcoef-120_memscore0.2811...  \n",
       "15  0.643711  shared0004_class484_memcoef-100_memscore0.3039...  \n",
       "16  0.574287  shared0004_class484_memcoef-80_memscore0.3056.png  \n",
       "17  0.539336  shared0004_class484_memcoef-60_memscore0.3160.png  \n",
       "18  0.469069  shared0004_class484_memcoef-40_memscore0.4255.png  \n",
       "19  0.298176  shared0004_class484_memcoef-20_memscore0.5521.png  "
      ]
     },
     "execution_count": 42,
     "metadata": {},
     "output_type": "execute_result"
    }
   ],
   "source": [
    "filter_df = pd.concat([filter_df, mem_df])\n",
    "filter_df = filter_df.sort_values(by=[\"nsd_id\", \"mem_coef\"]).reset_index(drop=True)\n",
    "print(filter_df.shape)\n",
    "filter_df.head(20)"
   ]
  },
  {
   "cell_type": "code",
   "execution_count": 43,
   "id": "907e1a05-8996-4a19-9fc6-2ac12b82988f",
   "metadata": {},
   "outputs": [],
   "source": [
    "grouped_df = filter_df.groupby(\"nsd_id\")\n",
    "\n",
    "test_dest_dir = \"data/memorability_controlled_test_70p_new/\"\n",
    "test_dest_dir_regen = test_dest_dir + \"regen/\"\n",
    "test_dest_dir_high = test_dest_dir + \"increased/\"\n",
    "test_dest_dir_low = test_dest_dir + \"decreased/\"\n",
    "\n",
    "os.makedirs(test_dest_dir_regen, exist_ok=True)\n",
    "os.makedirs(test_dest_dir_high, exist_ok=True)\n",
    "os.makedirs(test_dest_dir_low, exist_ok=True)"
   ]
  },
  {
   "cell_type": "code",
   "execution_count": 46,
   "id": "3a3fb645-b3b1-439e-a52a-3ce8796fca8f",
   "metadata": {},
   "outputs": [
    {
     "data": {
      "application/json": {
       "ascii": false,
       "bar_format": null,
       "colour": null,
       "elapsed": 0.004427194595336914,
       "initial": 0,
       "n": 0,
       "ncols": null,
       "nrows": 18,
       "postfix": null,
       "prefix": "",
       "rate": null,
       "total": 375,
       "unit": "it",
       "unit_divisor": 1000,
       "unit_scale": false
      },
      "application/vnd.jupyter.widget-view+json": {
       "model_id": "7254d72134a94a4ca65af3ba2e94c363",
       "version_major": 2,
       "version_minor": 0
      },
      "text/plain": [
       "  0%|          | 0/375 [00:00<?, ?it/s]"
      ]
     },
     "metadata": {},
     "output_type": "display_data"
    },
    {
     "data": {
      "text/plain": [
       "144"
      ]
     },
     "execution_count": 46,
     "metadata": {},
     "output_type": "execute_result"
    }
   ],
   "source": [
    "counter = 0\n",
    "for k, v in tqdm(grouped_df):\n",
    "    group_df = grouped_df.get_group(k)\n",
    "\n",
    "    memscore = group_df[(group_df[\"mem_coef\"] == 0) & (group_df[\"filename\"] == \"\")][\"memorability\"].values[0]\n",
    "    high_df = group_df[(group_df[\"mem_coef\"] > 0) & (group_df[\"lpips\"] < 0.50) & (group_df[\"memorability\"] > memscore)]\n",
    "    low_df = group_df[(group_df[\"mem_coef\"] < 0) & (group_df[\"lpips\"] < 0.50) & (group_df[\"memorability\"] < memscore)]\n",
    "\n",
    "    if high_df.shape[0] > 0 and low_df.shape[0] > 0:\n",
    "        counter += 1\n",
    "        \n",
    "        img = group_df[group_df[\"mem_coef\"] == 0][\"filename\"].values[0]\n",
    "        high_img = high_df.sort_values(by=\"memorability\", ascending=False)[\"filename\"].values[0]\n",
    "        low_img = low_df.sort_values(by=\"memorability\", ascending=True)[\"filename\"].values[0]\n",
    "    \n",
    "        shutil.copyfile(dest_dir+f\"{k}/{img}\", test_dest_dir+f\"regen/{img}\")\n",
    "        shutil.copyfile(dest_dir+f\"{k}/{high_img}\", test_dest_dir+f\"increased/{high_img}\")\n",
    "        shutil.copyfile(dest_dir+f\"{k}/{low_img}\", test_dest_dir+f\"decreased/{low_img}\")\n",
    "\n",
    "counter"
   ]
  },
  {
   "cell_type": "code",
   "execution_count": 47,
   "id": "ab2f3632-70a8-40a9-b7a0-5de5ed0ad198",
   "metadata": {},
   "outputs": [
    {
     "name": "stdout",
     "output_type": "stream",
     "text": [
      "[14, 24, 40, 53, 55, 57, 79, 84, 86, 88, 89, 90, 113, 117, 147, 154, 157, 162, 166, 168, 170, 173, 175, 179, 181, 183, 185, 188, 200, 201, 203, 205, 215, 230, 231, 236, 242, 246, 250, 255, 256, 283, 296, 310, 315, 317, 329, 330, 333, 347, 355, 366, 374, 383, 386, 390, 395, 396, 400, 402, 403, 419, 430, 448, 452, 456, 460, 471, 492, 501, 502, 506, 514, 526, 528, 530, 532, 540, 547, 556, 557, 562, 566, 574, 582, 592, 593, 607, 626, 628, 632, 637, 639, 644, 646, 649, 651, 657, 680, 681, 682, 686, 689, 692, 705, 728, 731, 733, 738, 745, 749, 752, 754, 757, 766, 767, 778, 782, 785, 793, 807, 825, 828, 829, 834, 850, 852, 858, 867, 873, 883, 893, 898, 914, 934, 944, 945, 955, 959, 964, 975, 982, 994, 996]\n"
     ]
    }
   ],
   "source": [
    "print(sorted([int(f.split(\"_\")[0].split(\"shared\")[-1])-1 for f in os.listdir(test_dest_dir_regen) if os.path.isfile(os.path.join(test_dest_dir_regen, f))]))"
   ]
  },
  {
   "cell_type": "code",
   "execution_count": 2,
   "id": "c86db29f-045a-4473-93a3-c25242e69c32",
   "metadata": {},
   "outputs": [],
   "source": [
    "# def resize_image_tensor(x, newsize):\n",
    "#     tt = x.transpose((0,2,3,1))\n",
    "#     r = np.ndarray(shape=x.shape[:1]+newsize+(x.shape[1],), dtype=tt.dtype) \n",
    "#     for i,t in enumerate(tt):\n",
    "#         r[i] = np.asarray(PIL.Image.fromarray(t).resize(newsize, resample=PIL.Image.BILINEAR))\n",
    "#     return r.transpose((0,3,1,2))\n",
    "\n",
    "\n",
    "# def check_img(G, hp, step_size, neg, nsd_id, sc_idx, transform=True, save_img=False):\n",
    "#     if neg:\n",
    "#         step_size *= -1\n",
    "\n",
    "#     fig = plt.figure(figsize=(24,8))\n",
    "#     proj_w = np.load(f\"/home/hhan228/memorability/Willow/shared1000_inversions/{nid}/projected_w.npy\")\n",
    "#     flatten_w = proj_w.reshape((proj_w.shape[0], proj_w.shape[1]*proj_w.shape[2]))\n",
    "\n",
    "#     for i in trange(14):\n",
    "#         if i == 0:\n",
    "#             img = PIL.Image.open(f\"/home/hhan228/memorability/Willow/shared1000_inversions/{nid}/target.png\").convert('RGB')\n",
    "#         else:\n",
    "#             coeff = (i-1) * step_size\n",
    "#             x = np.ravel(flatten_w) + coeff * hp\n",
    "#             x = torch.from_numpy(x.reshape((1, 32, 512))).to(device)\n",
    "            \n",
    "#             img = gen_utils.w_to_img(G, x, to_np=True)[0]\n",
    "#             img = PIL.Image.fromarray(img, \"RGB\")\n",
    "\n",
    "#         score = pred_memorability(img, transform)\n",
    "    \n",
    "#         ax = fig.add_subplot(2, 7, i+1)\n",
    "#         ax.imshow(img)\n",
    "#         ax.axis('off')\n",
    "\n",
    "#         if i == 0:\n",
    "#             ax.title.set_text(f\"Original: {score:.2f}\")\n",
    "#         elif i == 1:\n",
    "#             ax.title.set_text(f\"Synthesized: {score:.2f}\")\n",
    "#         else:\n",
    "#             if neg:\n",
    "#                 step_size_str = coeff\n",
    "#             else: \n",
    "#                 step_size_str = f\"+{coeff}\"\n",
    "#             ax.title.set_text(f\"Weight {step_size_str}: {score:.2f}\")\n",
    "    \n",
    "#     fig.tight_layout()\n",
    "#     if save_img:\n",
    "#         plt.savefig(img_save_dir+f\"{nsd_id}_stepsize{step_size}_superclass{int(sc_idx)}.png\")\n",
    "#     plt.show()"
   ]
  },
  {
   "cell_type": "code",
   "execution_count": null,
   "id": "65ae69c2-1092-4d27-b12b-4782f9df9ffe",
   "metadata": {},
   "outputs": [],
   "source": []
  }
 ],
 "metadata": {
  "kernelspec": {
   "display_name": "Python 3 (ipykernel)",
   "language": "python",
   "name": "python3"
  },
  "language_info": {
   "codemirror_mode": {
    "name": "ipython",
    "version": 3
   },
   "file_extension": ".py",
   "mimetype": "text/x-python",
   "name": "python",
   "nbconvert_exporter": "python",
   "pygments_lexer": "ipython3",
   "version": "3.8.3"
  }
 },
 "nbformat": 4,
 "nbformat_minor": 5
}
