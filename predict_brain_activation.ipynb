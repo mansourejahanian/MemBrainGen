{
 "cells": [
  {
   "cell_type": "code",
   "execution_count": 1,
   "metadata": {},
   "outputs": [],
   "source": [
    "import sys\n",
    "import os\n",
    "import struct\n",
    "import time as time\n",
    "import numpy as np\n",
    "import pandas as pd\n",
    "import h5py\n",
    "import PIL.Image\n",
    "from scipy import stats\n",
    "from itertools import chain\n",
    "from scipy.io import loadmat\n",
    "from tqdm import tqdm\n",
    "import pickle\n",
    "import math\n",
    "import matplotlib.pyplot as plt\n",
    "import csv\n",
    "from itertools import zip_longest\n",
    "\n",
    "import torch\n",
    "import torchvision\n",
    "import torchvision.transforms as transforms\n",
    "import torch.optim as optim\n",
    "import torch.nn.functional as F\n",
    "import torch.nn as nn\n",
    "from torchvision import models"
   ]
  },
  {
   "cell_type": "code",
   "execution_count": 2,
   "metadata": {},
   "outputs": [],
   "source": [
    "import neurogen.numpy_utility as pnu\n",
    "from neurogen.plots import display_candidate_loss\n",
    "from neurogen.file_utility import save_stuff, flatten_dict, embed_dict\n",
    "from neurogen.torch_fwrf import get_value\n",
    "\n",
    "from neurogen.torch_fwrf import learn_params_ridge_regression, get_predictions, Torch_fwRF_voxel_block\n",
    "from neurogen.encoding import load_encoding\n",
    "from neurogen.visualize import center_crop"
   ]
  },
  {
   "cell_type": "code",
   "execution_count": 3,
   "metadata": {},
   "outputs": [],
   "source": [
    "#paths\n",
    "\n",
    "nsd_root = \"data/nsd/\"\n",
    "# stim_root = \"/home/hhan228/memorability/Mansoure/\" + \"nsd_stimuli/\"\n",
    "# beta_root = nsd_root + \"nsd_beta/\"\n",
    "#mask_root = nsd_root + \"mask/ppdata/\"\n",
    "#roi_root = nsd_root + \"freesurfer/\"\n",
    "meanROIbeta_root = nsd_root + \"roiavgbeta_neurogen/\"\n",
    "# weight_root = \"neurogen/output/\"\n",
    "weight_base_dir = \"/home/hhan228/memorability/Willow/neurogen_output/\"\n",
    "# weight_root = weight_base_dir+\"alexnet/\"\n",
    "weight_root = weight_base_dir+\"resnet/\"\n",
    "\n",
    "exp_design_file = nsd_root + \"nsd_expdesign.mat\"\n",
    "stim_file = nsd_root + \"shared1000_original.npy\""
   ]
  },
  {
   "cell_type": "code",
   "execution_count": 4,
   "metadata": {},
   "outputs": [],
   "source": [
    "# device = torch.device(\"cuda:1\")\n",
    "device = torch.device(\"cpu\")"
   ]
  },
  {
   "cell_type": "markdown",
   "metadata": {},
   "source": [
    "## With memorability-controlled images"
   ]
  },
  {
   "cell_type": "code",
   "execution_count": 5,
   "metadata": {},
   "outputs": [],
   "source": [
    "ctrld_dir = \"data/memorability_controlled_test_70p_new/\"\n",
    "high_imgs = sorted([f for f in os.listdir(ctrld_dir+\"increased/\") if os.path.isfile(os.path.join(ctrld_dir+\"increased/\", f))])\n",
    "low_imgs = sorted([f for f in os.listdir(ctrld_dir+\"decreased/\") if os.path.isfile(os.path.join(ctrld_dir+\"decreased/\", f))])\n",
    "regen_imgs = sorted([f for f in os.listdir(ctrld_dir+\"regen/\") if os.path.isfile(os.path.join(ctrld_dir+\"regen/\", f))])"
   ]
  },
  {
   "cell_type": "code",
   "execution_count": 6,
   "metadata": {},
   "outputs": [],
   "source": [
    "default_ROIs = [\n",
    "    'OFA', 'FFA1', 'FFA2', 'mTLfaces', 'aTLfaces',\n",
    "    'EBA', 'FBA1', 'FBA2', 'mTLbodies',\n",
    "    'OPA', 'PPA', 'RSC',\n",
    "    # 'OWFA', 'VWFA1', 'VWFA2', 'mfswords', 'mTLwords', \n",
    "    'V1v', 'V1d', 'V2v', 'V2d', 'V3v', 'V3d', 'hV4',\n",
    "    'L-hippocampus', 'L-amygdala', 'R-hippocampus', 'R-amygdala'\n",
    "]\n",
    "\n",
    "t_test_dict = {\n",
    "    \"subject\": [],\n",
    "    \"ttest_p\": [],\n",
    "    \"wilcoxon_p\": [],\n",
    "    \"pearson_p\": [],\n",
    "    \"pearson_coef\": []\n",
    "}\n",
    "\n",
    "for roi in default_ROIs:\n",
    "    t_test_dict[f\"{roi}_high_low_p\"] = []\n",
    "    t_test_dict[f\"{roi}_orig_high_p\"] = []\n",
    "    t_test_dict[f\"{roi}_orig_low_p\"] = []\n",
    "    t_test_dict[f\"{roi}_recon_high_p\"] = []\n",
    "    t_test_dict[f\"{roi}_recon_low_p\"] = []"
   ]
  },
  {
   "cell_type": "code",
   "execution_count": 7,
   "metadata": {},
   "outputs": [
    {
     "name": "stdout",
     "output_type": "stream",
     "text": [
      "144\n"
     ]
    }
   ],
   "source": [
    "# 50%\n",
    "# ctrld_nids = [14, 19, 40, 53, 55, 58, 62, 77, 84, 86, 88, 89, 90, 101, 113, 147, 157, 166, 168, 170, 175, 179, 181, 183, 185, 200, 201, 203, 205, 213, 215, 225, 236, 242, 255, 261, 264, 275, 283, 292, 317, 328, 329, 333, 347, 353, 355, 361, 366, 374, 383, 386, 389, 390, 395, 396, 400, 402, 403, 407, 416, 419, 429, 430, 446, 448, 452, 456, 460, 471, 501, 506, 513, 514, 526, 528, 530, 537, 540, 543, 556, 557, 561, 562, 566, 572, 574, 575, 582, 583, 592, 593, 603, 607, 617, 620, 626, 628, 631, 632, 637, 639, 643, 644, 649, 651, 657, 681, 682, 685, 686, 689, 705, 710, 728, 731, 738, 739, 745, 749, 752, 754, 757, 758, 767, 782, 793, 807, 825, 828, 829, 834, 850, 852, 868, 873, 883, 886, 920, 934, 935, 940, 944, 945, 955, 959, 964, 975, 982, 996]\n",
    "\n",
    "# 70%\n",
    "# ctrld_nids = [14, 19, 24, 40, 53, 55, 57, 79, 84, 86, 88, 89, 90, 113, 117, 147, 154, 157, 162, 166, 168, 170, 173, 175, 179, 181, 183, 185, 188, 200, 201, 203, 205, 215, 217, 230, 231, 236, 242, 246, 250, 255, 256, 275, 281, 283, 296, 310, 315, 317, 329, 330, 333, 347, 349, 351, 355, 366, 374, 383, 386, 389, 390, 395, 396, 400, 402, 403, 407, 419, 430, 446, 448, 452, 456, 460, 471, 492, 501, 502, 506, 513, 514, 526, 528, 530, 532, 540, 547, 556, 557, 562, 566, 571, 574, 582, 592, 593, 607, 620, 622, 625, 626, 628, 631, 632, 637, 639, 643, 644, 646, 649, 651, 657, 680, 681, 682, 686, 689, 692, 705, 723, 728, 731, 733, 738, 745, 749, 752, 754, 757, 758, 766, 767, 778, 782, 785, 793, 807, 825, 828, 829, 834, 850, 852, 858, 860, 867, 868, 873, 883, 893, 898, 914, 927, 934, 940, 944, 945, 955, 959, 964, 975, 979, 982, 994, 996, 999]\n",
    "\n",
    "# 70% && S4, S8\n",
    "# ctrld_nids = [14, 19, 24, 40, 53, 57, 79, 84, 86, 88, 89, 90, 113, 117, 147, 154, 157, 162, 166, 168, 170, 173, 175, 179, 181, 183, 185, 188, 200, 201, 205, 215, 217, 230, 231, 242, 246, 250, 255, 256, 275, 281, 283, 296, 310, 315, 317, 329, 330, 333, 347, 349, 351, 355, 366, 374, 383, 386, 390, 396, 400, 402, 403, 407, 419, 430, 446, 448, 452, 456, 460, 471, 492, 502, 506, 513, 526, 528, 530, 532, 540, 556, 557, 562, 566, 571, 592, 593, 620, 622, 625, 626, 628, 631, 632, 639, 643, 644, 646, 649, 651, 657, 680, 682, 686, 689, 692, 705, 723, 728, 731, 738, 745, 749, 754, 757, 758, 766, 767, 778, 782, 785, 807, 825, 828, 829, 834, 850, 852, 858, 860, 867, 868, 873, 883, 893, 898, 914, 927, 934, 940, 944, 945, 955, 959, 964, 975, 979, 982, 994, 996, 999]\n",
    "\n",
    "# 129\n",
    "# ctrld_nids = [14, 24, 40, 53, 57, 79, 84, 86, 88, 89, 90, 113, 117, 147, 154, 157, 162, 166, 168, 170, 173, 175, 179, 181, 183, 185, 188, 200, 201, 205, 215, 230, 231, 242, 246, 250, 255, 256, 283, 296, 310, 315, 317, 329, 330, 333, 347, 355, 366, 374, 383, 386, 390, 396, 400, 402, 403, 419, 430, 448, 452, 456, 460, 471, 492, 502, 506, 526, 528, 530, 532, 540, 556, 557, 562, 566, 592, 593, 626, 628, 632, 639, 644, 646, 649, 651, 657, 680, 682, 686, 689, 692, 705, 728, 731, 738, 745, 749, 754, 757, 766, 767, 778, 782, 785, 807, 825, 828, 829, 834, 850, 852, 858, 867, 873, 883, 893, 898, 914, 934, 944, 945, 955, 959, 964, 975, 982, 994, 996]\n",
    "\n",
    "# 144\n",
    "ctrld_nids = [14, 24, 40, 53, 55, 57, 79, 84, 86, 88, 89, 90, 113, 117, 147, 154, 157, 162, 166, 168, 170, 173, 175, 179, 181, 183, 185, 188, 200, 201, 203, 205, 215, 230, 231, 236, 242, 246, 250, 255, 256, 283, 296, 310, 315, 317, 329, 330, 333, 347, 355, 366, 374, 383, 386, 390, 395, 396, 400, 402, 403, 419, 430, 448, 452, 456, 460, 471, 492, 501, 502, 506, 514, 526, 528, 530, 532, 540, 547, 556, 557, 562, 566, 574, 582, 592, 593, 607, 626, 628, 632, 637, 639, 644, 646, 649, 651, 657, 680, 681, 682, 686, 689, 692, 705, 728, 731, 733, 738, 745, 749, 752, 754, 757, 766, 767, 778, 782, 785, 793, 807, 825, 828, 829, 834, 850, 852, 858, 867, 873, 883, 893, 898, 914, 934, 944, 945, 955, 959, 964, 975, 982, 994, 996]\n",
    "\n",
    "# 80%\n",
    "# ctrld_nids = [7, 14, 19, 24, 40, 49, 53, 55, 57, 79, 84, 86, 88, 89, 90, 106, 113, 117, 125, 147, 154, 157, 162, 166, 168, 170, 173, 175, 179, 181, 183, 185, 188, 200, 201, 202, 203, 205, 215, 217, 230, 231, 236, 242, 246, 249, 250, 255, 256, 275, 281, 283, 296, 310, 315, 317, 329, 330, 333, 345, 347, 349, 351, 355, 366, 374, 383, 386, 389, 390, 395, 396, 400, 402, 403, 407, 419, 430, 435, 446, 448, 450, 452, 456, 458, 460, 471, 492, 493, 501, 502, 506, 513, 514, 526, 528, 530, 532, 540, 547, 556, 557, 562, 566, 571, 574, 582, 592, 593, 602, 604, 607, 618, 620, 622, 625, 626, 628, 629, 631, 632, 637, 639, 643, 644, 646, 649, 651, 657, 680, 681, 682, 686, 689, 692, 705, 723, 728, 731, 733, 738, 745, 749, 752, 754, 757, 758, 766, 767, 778, 782, 785, 793, 803, 807, 825, 828, 829, 834, 850, 852, 854, 858, 860, 867, 868, 873, 883, 893, 898, 914, 927, 934, 940, 944, 945, 955, 959, 964, 975, 979, 982, 994, 996, 999]\n",
    "\n",
    "# iqr\n",
    "# ctrld_nids = [14, 19, 24, 40, 53, 55, 57, 79, 84, 86, 88, 89, 90, 106, 113, 117, 147, 154, 157, 162, 166, 168, 170, 173, 175, 179, 181, 183, 185, 188, 200, 201, 203, 205, 215, 217, 230, 231, 236, 242, 246, 249, 250, 255, 256, 275, 281, 283, 296, 310, 315, 317, 329, 330, 333, 345, 347, 349, 351, 355, 366, 374, 383, 386, 389, 390, 395, 396, 400, 402, 403, 407, 419, 430, 446, 448, 450, 452, 456, 458, 460, 471, 492, 501, 502, 506, 513, 514, 526, 528, 530, 532, 540, 547, 556, 557, 562, 566, 571, 574, 582, 592, 593, 607, 618, 620, 622, 625, 626, 628, 631, 632, 637, 639, 643, 644, 646, 649, 651, 657, 680, 681, 682, 686, 689, 692, 705, 723, 728, 731, 733, 738, 745, 749, 752, 754, 757, 758, 766, 767, 778, 782, 785, 793, 803, 807, 825, 828, 829, 834, 850, 852, 854, 858, 860, 867, 868, 873, 883, 893, 898, 914, 927, 934, 940, 944, 945, 955, 959, 964, 975, 979, 982, 994, 996, 999]\n",
    "print(len(ctrld_nids))"
   ]
  },
  {
   "cell_type": "markdown",
   "metadata": {},
   "source": [
    "### Load subject"
   ]
  },
  {
   "cell_type": "code",
   "execution_count": 183,
   "metadata": {},
   "outputs": [],
   "source": [
    "# parameters\n",
    "subject = 8\n",
    "savearg = {'format':'png', 'dpi': 120, 'facecolor': None}\n",
    "model_name = 'dnn_fwrf'\n",
    "\n",
    "# number of trials for all subjects\n",
    "trials = np.array([30000, 30000, 24000, 22500, 30000, 24000, 30000, 22500])\n",
    "\n",
    "# subj_dir = ctrld_dir+f\"subj{subject:02d}/\"\n",
    "subj_dir = ctrld_dir+f\"including_memory/resnet_{len(ctrld_nids)}/subj{subject:02d}/\"\n",
    "os.makedirs(subj_dir, exist_ok=True)"
   ]
  },
  {
   "cell_type": "code",
   "execution_count": 184,
   "metadata": {},
   "outputs": [
    {
     "name": "stdout",
     "output_type": "stream",
     "text": [
      "ordering shape (30000,)\n",
      "subject_idx shape (8, 10000)\n"
     ]
    }
   ],
   "source": [
    "# load behavior data\n",
    "\n",
    "exp_design = loadmat(exp_design_file)\n",
    "# order of image id in trials\n",
    "ordering = exp_design['masterordering'].flatten() - 1 # zero-indexed ordering of indices (matlab-like to python-like)\n",
    "print('ordering shape', ordering.shape)\n",
    "# image id for each subject\n",
    "subject_idx  = exp_design['subjectim']\n",
    "print('subject_idx shape', subject_idx.shape)\n",
    "# shared image id\n",
    "shared_idx = exp_design['sharedix']"
   ]
  },
  {
   "cell_type": "code",
   "execution_count": 185,
   "metadata": {},
   "outputs": [
    {
     "name": "stdout",
     "output_type": "stream",
     "text": [
      "image data shape (1000, 3, 227, 227)\n"
     ]
    }
   ],
   "source": [
    "image_data = np.load(\"data/nsd/shared1000_227.npy\")\n",
    "image_data = image_data.astype(np.float32) / 255.\n",
    "\n",
    "print('image data shape', image_data.shape)"
   ]
  },
  {
   "cell_type": "code",
   "execution_count": 186,
   "metadata": {},
   "outputs": [],
   "source": [
    "# plt.imshow(image_data[0].transpose(1, 2, 0))"
   ]
  },
  {
   "cell_type": "code",
   "execution_count": 187,
   "metadata": {},
   "outputs": [
    {
     "name": "stdout",
     "output_type": "stream",
     "text": [
      "(22500,)\n"
     ]
    }
   ],
   "source": [
    "# choose the 1000 shared images\n",
    "\n",
    "data_size = trials[subject-1]\n",
    "ordering_data = ordering[:data_size]\n",
    "print(ordering_data.shape)"
   ]
  },
  {
   "cell_type": "code",
   "execution_count": 188,
   "metadata": {},
   "outputs": [],
   "source": [
    "# Subject 3, 6: [55, 236, 395, 514, 547, 582, 637, 681, 733, 752]\n",
    "# Subject 4, 8: [55, 203, 236, 395, 501, 514, 547, 574, 582, 607, 637, 681, 733, 752, 793]"
   ]
  },
  {
   "cell_type": "code",
   "execution_count": 189,
   "metadata": {},
   "outputs": [
    {
     "name": "stdout",
     "output_type": "stream",
     "text": [
      "test size 298\n"
     ]
    }
   ],
   "source": [
    "# shared_mask = ordering_data<1000  # the first 1000 indices are the shared indices\n",
    "shared_mask = np.in1d(ordering_data, ctrld_nids)\n",
    "test_size = np.sum(shared_mask)\n",
    "print('test size', test_size)"
   ]
  },
  {
   "cell_type": "code",
   "execution_count": 190,
   "metadata": {},
   "outputs": [
    {
     "name": "stdout",
     "output_type": "stream",
     "text": [
      "test beta shape (298, 23)\n"
     ]
    }
   ],
   "source": [
    "# load beta\n",
    "ROIs = [\n",
    "    'OFA', 'FFA1', 'FFA2', 'mTLfaces', 'aTLfaces',\n",
    "    'EBA', 'FBA1', 'FBA2', 'mTLbodies',\n",
    "    'OPA', 'PPA', 'RSC',\n",
    "    'V1v', 'V1d', 'V2v', 'V2d', 'V3v', 'V3d', 'hV4',\n",
    "    'L-hippocampus', 'L-amygdala', 'R-hippocampus', 'R-amygdala'\n",
    "]\n",
    "\n",
    "roi_num = len(ROIs)\n",
    "roi_data = np.zeros([data_size, roi_num])\n",
    "n = 0\n",
    "del_idx = []\n",
    "for roi in ROIs:\n",
    "    roi_data[:,n] = np.genfromtxt(meanROIbeta_root + f'subj{subject:02d}/meanbeta_' + roi + '.txt')\n",
    "    if np.isnan(np.sum(roi_data[:,n])):\n",
    "        print(roi)\n",
    "        del_idx.append(n)\n",
    "    n += 1\n",
    "\n",
    "ROIs_bool = np.ones((23,1), dtype='bool')\n",
    "ROIs_bool[del_idx] = False\n",
    "\n",
    "roi_data = np.delete(roi_data, del_idx, axis=1)\n",
    "test_roi_data = roi_data[shared_mask]\n",
    "\n",
    "print('test beta shape', test_roi_data.shape)"
   ]
  },
  {
   "cell_type": "code",
   "execution_count": 191,
   "metadata": {},
   "outputs": [],
   "source": [
    "# load params\n",
    "model_params_set = h5py.File(weight_root+f'S{subject:02d}/model_params.h5py' , 'r')\n",
    "# model_params_set = h5py.File(weight_root+f'S{subject:02d}/dnn_fwrf/model_params.h5py' , 'r')\n",
    "model_params = embed_dict({k: np.copy(d) for k,d in model_params_set.items()})\n",
    "model_params_set.close()\n",
    "\n",
    "# load encoding models\n",
    "fwrf, fmaps = load_encoding(model_params, fmap_name='resnet', device=device)"
   ]
  },
  {
   "cell_type": "code",
   "execution_count": 192,
   "metadata": {},
   "outputs": [
    {
     "name": "stdout",
     "output_type": "stream",
     "text": [
      "samples [  900:999  ] of 1000, voxels [     0:22    ] of 23\n",
      "---------------------------------------\n",
      "total time = 4.896741s\n",
      "sample throughput = 0.004897s/sample\n",
      "voxel throughput = 0.212902s/voxel\n",
      "test pred shape (298, 23)\n"
     ]
    }
   ],
   "source": [
    "# predict brain response\n",
    "voxel_pred = get_predictions(image_data, fmaps, fwrf, model_params['params'])\n",
    "test_voxel_pred = voxel_pred[ordering[:data_size][shared_mask]]\n",
    "print('test pred shape', test_voxel_pred.shape)"
   ]
  },
  {
   "cell_type": "code",
   "execution_count": 193,
   "metadata": {},
   "outputs": [
    {
     "name": "stdout",
     "output_type": "stream",
     "text": [
      "(1000, 23)\n"
     ]
    },
    {
     "data": {
      "image/png": "[encoded data removed]",
      "text/plain": [
       "<Figure size 1776.5x600 with 1 Axes>"
      ]
     },
     "metadata": {},
     "output_type": "display_data"
    }
   ],
   "source": [
    "# correlate predicted response and beta\n",
    "accuracy = np.zeros(shape=(test_voxel_pred.shape[1]))\n",
    "\n",
    "for v in range(test_voxel_pred.shape[1]):\n",
    "    accuracy[v] = np.corrcoef(test_roi_data[:,v], test_voxel_pred[:,v])[0,1]  \n",
    "    \n",
    "\n",
    "accuracy = np.nan_to_num(accuracy)\n",
    "\n",
    "# plot the accuracy for all rois\n",
    "# ROIs_label = ['OFA', 'FFA1', 'FFA2', 'mTL \\n faces', 'aTL \\n faces', 'EBA', 'FBA1', 'FBA2', 'mTL \\n bodies', 'OPA', 'PPA', 'RSC', 'OWFA', 'VWFA1', 'VWFA2', 'mfs \\n words', 'mTL \\n words', 'V1v', 'V1d', 'V2v', 'V2d', 'V3v', 'V3d', 'hV4']\n",
    "ROIs_label = ['OFA', 'FFA1', 'FFA2', 'mTL\\nfaces', 'aTL\\nfaces', 'EBA', 'FBA1', 'FBA2', 'mTLbodies', 'OPA', 'PPA', 'RSC', 'V1v', 'V1d', 'V2v', 'V2d', 'V3v', 'V3d', 'hV4', 'L_hpc', 'L_amg', 'R_hpc', 'R_amg']\n",
    "ROIs_label = np.delete(ROIs_label,del_idx) \n",
    "\n",
    "plt.figure(figsize=(16,6))\n",
    "plt.bar(ROIs_label,accuracy)\n",
    "plt.ylabel('Accuracy')\n",
    "\n",
    "plt.gca().margins(x=0.025)\n",
    "plt.gcf().canvas.draw()\n",
    "tl = plt.gca().get_xticklabels()\n",
    "maxsize = max([t.get_window_extent().width for t in tl])\n",
    "m = 0.2 # inch margin\n",
    "s = maxsize/plt.gcf().dpi*test_voxel_pred.shape[1]+2*m\n",
    "margin = m/plt.gcf().get_size_inches()[0]\n",
    "plt.gcf().subplots_adjust(left=margin, right=1.-margin)\n",
    "plt.gcf().set_size_inches(s, plt.gcf().get_size_inches()[1])\n",
    "\n",
    "plt.savefig(subj_dir+'accuracy.png', bbox_inches='tight')\n",
    "\n",
    "pred_act = np.zeros((1000,23))\n",
    "pred_act[:,ROIs_bool[:,0]] = voxel_pred\n",
    "print(pred_act.shape)\n",
    "\n",
    "with open(subj_dir + 'voxel_pred_nsd.npy', 'wb') as f:\n",
    "    np.save(f, pred_act)\n",
    "\n",
    "save_acc = np.zeros([1,23])\n",
    "save_acc[:,ROIs_bool[:,0]] = accuracy\n",
    "\n",
    "with open(subj_dir + 'acc.npy', 'wb') as f:\n",
    "    np.save(f, save_acc)"
   ]
  },
  {
   "cell_type": "code",
   "execution_count": 194,
   "metadata": {},
   "outputs": [
    {
     "data": {
      "text/plain": [
       "(1000, 3, 227, 227)"
      ]
     },
     "execution_count": 194,
     "metadata": {},
     "output_type": "execute_result"
    }
   ],
   "source": [
    "# for i, imfile in enumerate(regen_imgs):\n",
    "#     regen_img = PIL.Image.open(ctrld_dir+\"regen/\"+imfile).convert(\"RGB\").resize((227, 227))\n",
    "#     regen_img = np.array(regen_img, dtype=np.float32) / 255.\n",
    "#     image_data[ctrld_nids[i]] = regen_img.transpose((2, 0, 1))\n",
    "\n",
    "for i, imfile in enumerate(regen_imgs):\n",
    "    nid = int(imfile.split(\"_\")[0].split(\"shared\")[-1])-1\n",
    "    if nid in ctrld_nids:\n",
    "        regen_img = PIL.Image.open(ctrld_dir+\"regen/\"+imfile).convert(\"RGB\").resize((227, 227))\n",
    "        regen_img = np.array(regen_img, dtype=np.float32) / 255.\n",
    "        image_data[nid] = regen_img.transpose((2, 0, 1))\n",
    "\n",
    "image_data.shape"
   ]
  },
  {
   "cell_type": "code",
   "execution_count": 195,
   "metadata": {},
   "outputs": [],
   "source": [
    "# plt.imshow(image_data[ctrld_nids[0]].transpose(1, 2, 0))"
   ]
  },
  {
   "cell_type": "code",
   "execution_count": 196,
   "metadata": {},
   "outputs": [
    {
     "name": "stdout",
     "output_type": "stream",
     "text": [
      "samples [  900:999  ] of 1000, voxels [     0:22    ] of 23\n",
      "---------------------------------------\n",
      "total time = 4.939736s\n",
      "sample throughput = 0.004940s/sample\n",
      "voxel throughput = 0.214771s/voxel\n"
     ]
    }
   ],
   "source": [
    "# predict brain response\n",
    "voxel_pred = get_predictions(image_data, fmaps, fwrf, model_params['params'])\n",
    "regen_voxel_pred = voxel_pred[ordering[:data_size][shared_mask]]\n",
    "# shuffled_voxel_pred = # shuffle 100 times for each participants non-parametric"
   ]
  },
  {
   "cell_type": "code",
   "execution_count": 197,
   "metadata": {},
   "outputs": [
    {
     "name": "stdout",
     "output_type": "stream",
     "text": [
      "regen pred shape (298, 23)\n",
      "(1000, 23)\n"
     ]
    },
    {
     "data": {
      "image/png": "[encoded data removed]",
      "text/plain": [
       "<Figure size 1776.5x600 with 1 Axes>"
      ]
     },
     "metadata": {},
     "output_type": "display_data"
    }
   ],
   "source": [
    "print('regen pred shape', regen_voxel_pred.shape)\n",
    "accuracy_regen = np.zeros(shape=(regen_voxel_pred.shape[1]))\n",
    "\n",
    "for v in range(regen_voxel_pred.shape[1]):    \n",
    "    accuracy_regen[v] = np.corrcoef(test_roi_data[:,v], regen_voxel_pred[:,v])[0,1]  \n",
    "    \n",
    "\n",
    "accuracy_regen = np.nan_to_num(accuracy_regen)\n",
    "\n",
    "# plot the accuracy for all rois\n",
    "# ROIs_label = ['OFA', 'FFA1', 'FFA2', 'mTL \\n faces', 'aTL \\n faces', 'EBA', 'FBA1', 'FBA2', 'mTL \\n bodies', 'OPA', 'PPA', 'RSC', 'OWFA', 'VWFA1', 'VWFA2', 'mfs \\n words', 'mTL \\n words', 'V1v', 'V1d', 'V2v', 'V2d', 'V3v', 'V3d', 'hV4']\n",
    "ROIs_label = ['OFA', 'FFA1', 'FFA2', 'mTL\\nfaces', 'aTL\\nfaces', 'EBA', 'FBA1', 'FBA2', 'mTLbodies', 'OPA', 'PPA', 'RSC', 'V1v', 'V1d', 'V2v', 'V2d', 'V3v', 'V3d', 'hV4', 'L_hpc', 'L_amg', 'R_hpc', 'R_amg']\n",
    "ROIs_label = np.delete(ROIs_label,del_idx)  \n",
    "\n",
    "plt.figure(figsize=(16,6))\n",
    "plt.bar(ROIs_label,accuracy_regen)\n",
    "plt.ylabel('Accuracy')\n",
    "\n",
    "plt.gca().margins(x=0.025)\n",
    "plt.gcf().canvas.draw()\n",
    "tl = plt.gca().get_xticklabels()\n",
    "maxsize = max([t.get_window_extent().width for t in tl])\n",
    "m = 0.2 # inch margin\n",
    "s = maxsize/plt.gcf().dpi*test_voxel_pred.shape[1]+2*m\n",
    "margin = m/plt.gcf().get_size_inches()[0]\n",
    "plt.gcf().subplots_adjust(left=margin, right=1.-margin)\n",
    "plt.gcf().set_size_inches(s, plt.gcf().get_size_inches()[1])\n",
    "\n",
    "\n",
    "plt.savefig(subj_dir+'accuracy.png', bbox_inches='tight')\n",
    "\n",
    "pred_act = np.zeros((1000,23))\n",
    "pred_act[:,ROIs_bool[:,0]] = voxel_pred\n",
    "print(pred_act.shape)\n",
    "\n",
    "with open(subj_dir + 'voxel_pred_regen.npy', 'wb') as f:\n",
    "    np.save(f, pred_act)\n",
    "\n",
    "save_acc = np.zeros([1,23])\n",
    "save_acc[:,ROIs_bool[:,0]] = accuracy\n",
    "\n",
    "with open(subj_dir + 'acc_regen.npy', 'wb') as f:\n",
    "    np.save(f, save_acc)"
   ]
  },
  {
   "cell_type": "code",
   "execution_count": 198,
   "metadata": {},
   "outputs": [
    {
     "data": {
      "image/png": "[encoded data removed]",
      "text/plain": [
       "<Figure size 1776.5x600 with 1 Axes>"
      ]
     },
     "metadata": {},
     "output_type": "display_data"
    }
   ],
   "source": [
    "acc_dict = {\n",
    "    \"Original\": accuracy,\n",
    "    \"Reconstructed\": accuracy_regen\n",
    "}\n",
    "\n",
    "acc_z = np.arctanh(accuracy)\n",
    "acc_regen_z = np.arctanh(accuracy_regen)\n",
    "\n",
    "_, p_value = stats.ttest_rel(acc_z, acc_regen_z)\n",
    "if p_value < 0.001:\n",
    "    p_str = '***'\n",
    "elif p_value < 0.01:\n",
    "    p_str = '**'\n",
    "elif p_value < 0.05:\n",
    "    p_str = '*'\n",
    "else:\n",
    "    p_str = 'n.s.'\n",
    "\n",
    "x = np.arange(len(accuracy))  # the label locations\n",
    "width = 0.3  # the width of the bars\n",
    "multiplier = 0.6\n",
    "\n",
    "fig, ax = plt.subplots(figsize=(16,6))\n",
    "\n",
    "for attribute, measurement in acc_dict.items():\n",
    "    offset = width * multiplier\n",
    "    rects = ax.bar(x + offset, measurement, width, label=attribute)\n",
    "    # ax.bar_label(rects, padding=3)\n",
    "    multiplier += 1\n",
    "\n",
    "ax.set_ylabel('Accuracy')\n",
    "ax.set_xticks(ticks=x + width, labels=ROIs_label)\n",
    "ax.legend(loc='upper left', ncols=1)\n",
    "ax.set_title(f\"Subject {subject}: {p_str}\")\n",
    "\n",
    "plt.gca().margins(x=0.025)\n",
    "plt.gcf().canvas.draw()\n",
    "tl = plt.gca().get_xticklabels()\n",
    "maxsize = max([t.get_window_extent().width for t in tl])\n",
    "m = 0.2 # inch margin\n",
    "s = maxsize/plt.gcf().dpi*len(accuracy)+2*m\n",
    "margin = m/plt.gcf().get_size_inches()[0]\n",
    "plt.gcf().subplots_adjust(left=margin, right=1.-margin)\n",
    "plt.gcf().set_size_inches(s, plt.gcf().get_size_inches()[1])\n",
    "\n",
    "# plt.show()\n",
    "plt.savefig(subj_dir+'accuracy_compare.png', bbox_inches='tight')"
   ]
  },
  {
   "cell_type": "code",
   "execution_count": 199,
   "metadata": {},
   "outputs": [],
   "source": [
    "# Paired t-test\n",
    "t_test_dict[\"subject\"].append(subject)\n",
    "t_test_dict[\"ttest_p\"].append(p_value)\n",
    "\n",
    "# Wilcoxon rank test\n",
    "_, p_wilcoxon = stats.wilcoxon(accuracy, accuracy_regen)\n",
    "t_test_dict[\"wilcoxon_p\"].append(p_wilcoxon)\n",
    "\n",
    "# Pearson corr (again)\n",
    "pearson_coef, p_pearsonr = stats.pearsonr(accuracy, accuracy_regen)\n",
    "t_test_dict[\"pearson_p\"].append(p_pearsonr)\n",
    "t_test_dict[\"pearson_coef\"].append(pearson_coef)"
   ]
  },
  {
   "cell_type": "markdown",
   "metadata": {},
   "source": [
    "### Memorability-controlled images"
   ]
  },
  {
   "cell_type": "code",
   "execution_count": 200,
   "metadata": {},
   "outputs": [
    {
     "data": {
      "text/plain": [
       "(1000, 3, 227, 227)"
      ]
     },
     "execution_count": 200,
     "metadata": {},
     "output_type": "execute_result"
    }
   ],
   "source": [
    "# for i, imfile in enumerate(high_imgs):\n",
    "#     high_img = PIL.Image.open(ctrld_dir+\"increased/\"+imfile).convert(\"RGB\").resize((227, 227))\n",
    "#     high_img = np.array(high_img, dtype=np.float32) / 255.\n",
    "#     image_data[ctrld_nids[i]] = high_img.transpose((2, 0, 1))\n",
    "\n",
    "for i, imfile in enumerate(high_imgs):\n",
    "    nid = int(imfile.split(\"_\")[0].split(\"shared\")[-1])-1\n",
    "    if nid in ctrld_nids:\n",
    "        high_img = PIL.Image.open(ctrld_dir+\"increased/\"+imfile).convert(\"RGB\").resize((227, 227))\n",
    "        high_img = np.array(high_img, dtype=np.float32) / 255.\n",
    "        image_data[nid] = high_img.transpose((2, 0, 1))\n",
    "\n",
    "image_data.shape"
   ]
  },
  {
   "cell_type": "code",
   "execution_count": 201,
   "metadata": {},
   "outputs": [
    {
     "name": "stdout",
     "output_type": "stream",
     "text": [
      "samples [  900:999  ] of 1000, voxels [     0:22    ] of 23\n",
      "---------------------------------------\n",
      "total time = 4.513695s\n",
      "sample throughput = 0.004514s/sample\n",
      "voxel throughput = 0.196248s/voxel\n",
      "(1000, 23)\n"
     ]
    }
   ],
   "source": [
    "# predict brain response\n",
    "voxel_pred = get_predictions(image_data, fmaps, fwrf, model_params['params'])\n",
    "high_voxel_pred = voxel_pred[ordering[:data_size][shared_mask]]\n",
    "pred_act = np.zeros((1000,23))\n",
    "pred_act[:,ROIs_bool[:,0]] = voxel_pred\n",
    "print(pred_act.shape)\n",
    "with open(subj_dir + 'voxel_pred_high.npy', 'wb') as f:\n",
    "    np.save(f, pred_act)"
   ]
  },
  {
   "cell_type": "code",
   "execution_count": 202,
   "metadata": {},
   "outputs": [
    {
     "data": {
      "text/plain": [
       "(1000, 3, 227, 227)"
      ]
     },
     "execution_count": 202,
     "metadata": {},
     "output_type": "execute_result"
    }
   ],
   "source": [
    "# for i, imfile in enumerate(low_imgs):\n",
    "#     low_img = PIL.Image.open(ctrld_dir+\"decreased/\"+imfile).convert(\"RGB\").resize((227, 227))\n",
    "#     low_img = np.array(low_img, dtype=np.float32) / 255.\n",
    "#     image_data[ctrld_nids[i]] = low_img.transpose((2, 0, 1))\n",
    "\n",
    "for i, imfile in enumerate(low_imgs):\n",
    "    nid = int(imfile.split(\"_\")[0].split(\"shared\")[-1])-1\n",
    "    if nid in ctrld_nids:\n",
    "        low_img = PIL.Image.open(ctrld_dir+\"decreased/\"+imfile).convert(\"RGB\").resize((227, 227))\n",
    "        low_img = np.array(low_img, dtype=np.float32) / 255.\n",
    "        image_data[nid] = low_img.transpose((2, 0, 1))\n",
    "\n",
    "image_data.shape"
   ]
  },
  {
   "cell_type": "code",
   "execution_count": 203,
   "metadata": {},
   "outputs": [
    {
     "name": "stdout",
     "output_type": "stream",
     "text": [
      "samples [  900:999  ] of 1000, voxels [     0:22    ] of 23\n",
      "---------------------------------------\n",
      "total time = 6.742841s\n",
      "sample throughput = 0.006743s/sample\n",
      "voxel throughput = 0.293167s/voxel\n",
      "(1000, 23)\n"
     ]
    }
   ],
   "source": [
    "# predict brain response\n",
    "voxel_pred = get_predictions(image_data, fmaps, fwrf, model_params['params'])\n",
    "low_voxel_pred = voxel_pred[ordering[:data_size][shared_mask]]\n",
    "pred_act = np.zeros((1000,23))\n",
    "pred_act[:,ROIs_bool[:,0]] = voxel_pred\n",
    "print(pred_act.shape)\n",
    "with open(subj_dir + 'voxel_pred_low.npy', 'wb') as f:\n",
    "    np.save(f, pred_act)"
   ]
  },
  {
   "cell_type": "code",
   "execution_count": 204,
   "metadata": {},
   "outputs": [
    {
     "name": "stdout",
     "output_type": "stream",
     "text": [
      "(298, 23)\n",
      "(298, 23)\n",
      "(298, 23)\n",
      "(298, 23)\n"
     ]
    }
   ],
   "source": [
    "print(test_voxel_pred.shape)\n",
    "print(regen_voxel_pred.shape)\n",
    "print(high_voxel_pred.shape)\n",
    "print(low_voxel_pred.shape)"
   ]
  },
  {
   "cell_type": "code",
   "execution_count": 205,
   "metadata": {},
   "outputs": [],
   "source": [
    "def normalize(data):\n",
    "    return (data - np.min(data)) / (np.max(data) - np.min(data))"
   ]
  },
  {
   "cell_type": "code",
   "execution_count": 206,
   "metadata": {},
   "outputs": [
    {
     "data": {
      "image/png": "[encoded data removed]",
      "text/plain": [
       "<Figure size 1600x400 with 1 Axes>"
      ]
     },
     "metadata": {},
     "output_type": "display_data"
    }
   ],
   "source": [
    "# pred_means = {\n",
    "#     'Original': test_voxel_pred.mean(axis=0),\n",
    "#     'Re-generate': regen_voxel_pred.mean(axis=0),\n",
    "#     'Higher': high_voxel_pred.mean(axis=0),\n",
    "#     'Lower': low_voxel_pred.mean(axis=0),\n",
    "# }\n",
    "\n",
    "pred_means = {\n",
    "    'NSD': normalize(test_voxel_pred).mean(axis=0),\n",
    "    'NSD-synth': normalize(regen_voxel_pred).mean(axis=0),\n",
    "    'Higher': normalize(high_voxel_pred).mean(axis=0),\n",
    "    'Lower': normalize(low_voxel_pred).mean(axis=0),\n",
    "}\n",
    "\n",
    "x = np.arange(len(accuracy))  # the label locations\n",
    "width = 0.18  # the width of the bars\n",
    "multiplier = -0.5\n",
    "\n",
    "fig, ax = plt.subplots(figsize=(16,4))\n",
    "\n",
    "for attribute, measurement in pred_means.items():\n",
    "    offset = width * multiplier\n",
    "    rects = ax.bar(x + offset, measurement, width, label=attribute)\n",
    "    # ax.bar_label(rects, padding=3)\n",
    "    multiplier += 1\n",
    "\n",
    "# Add some text for labels, title and custom x-axis tick labels, etc.\n",
    "# ax.set_ylabel('Prediction')\n",
    "ax.set_ylabel('Normalized Prediction')\n",
    "# ax.set_title('Penguin attributes by species')\n",
    "ax.set_xticks(ticks=x + width, labels=ROIs_label)\n",
    "ax.legend(loc='upper center', bbox_to_anchor=(0.5, 1.15), ncol=4, fancybox=True)\n",
    "# ax.set_ylim(0, 250)\n",
    "\n",
    "plt.show()"
   ]
  },
  {
   "cell_type": "code",
   "execution_count": 207,
   "metadata": {},
   "outputs": [],
   "source": [
    "t_stat_hl, p_value_hl = stats.ttest_rel(high_voxel_pred, low_voxel_pred, alternative=\"greater\")\n",
    "\n",
    "t_stat_oh, p_value_oh = stats.ttest_rel(test_voxel_pred, high_voxel_pred, alternative=\"less\")\n",
    "t_stat_ol, p_value_ol = stats.ttest_rel(test_voxel_pred, low_voxel_pred, alternative=\"greater\")\n",
    "\n",
    "t_stat_rh, p_value_rh = stats.ttest_rel(regen_voxel_pred, high_voxel_pred, alternative=\"less\")\n",
    "t_stat_rl, p_value_rl = stats.ttest_rel(regen_voxel_pred, low_voxel_pred, alternative=\"greater\")\n",
    "\n",
    "\n",
    "actual_ROIs = np.delete(ROIs, del_idx)\n",
    "for i, roi in enumerate(actual_ROIs):\n",
    "    t_test_dict[f\"{roi}_high_low_p\"].append(p_value_hl[i])\n",
    "    t_test_dict[f\"{roi}_orig_high_p\"].append(p_value_oh[i])\n",
    "    t_test_dict[f\"{roi}_orig_low_p\"].append(p_value_ol[i])\n",
    "    t_test_dict[f\"{roi}_recon_high_p\"].append(p_value_rh[i])\n",
    "    t_test_dict[f\"{roi}_recon_low_p\"].append(p_value_rl[i])\n",
    "\n",
    "del_ROIs = list(set(default_ROIs) - set(actual_ROIs))\n",
    "for droi in del_ROIs:\n",
    "    t_test_dict[f\"{droi}_high_low_p\"].append(np.nan)\n",
    "    t_test_dict[f\"{droi}_orig_high_p\"].append(np.nan)\n",
    "    t_test_dict[f\"{droi}_orig_low_p\"].append(np.nan)\n",
    "    t_test_dict[f\"{droi}_recon_high_p\"].append(np.nan)\n",
    "    t_test_dict[f\"{droi}_recon_low_p\"].append(np.nan)"
   ]
  },
  {
   "cell_type": "code",
   "execution_count": null,
   "metadata": {},
   "outputs": [],
   "source": []
  },
  {
   "cell_type": "markdown",
   "metadata": {},
   "source": [
    "### Check t-test results"
   ]
  },
  {
   "cell_type": "code",
   "execution_count": 208,
   "metadata": {},
   "outputs": [],
   "source": [
    "df_ttest = pd.DataFrame(t_test_dict)\n",
    "df_ttest.to_csv(ctrld_dir+f\"including_memory/resnet_{len(ctrld_nids)}/per_subj_ttest_rel.csv\", index=False)\n",
    "# df_ttest.to_csv(ctrld_dir+\"per_subj_ttest_rel.csv\", index=False)"
   ]
  },
  {
   "cell_type": "code",
   "execution_count": 209,
   "metadata": {},
   "outputs": [],
   "source": [
    "mask_hl = [i for i, c in enumerate(df_ttest.columns) if (\"high_low\" in c) and (c.split('_')[0] not in ['OWFA', 'VWFA1', 'VWFA2', 'mfswords', 'mTLwords'])]\n",
    "mask_oh = [i for i, c in enumerate(df_ttest.columns) if (\"orig_high\" in c) and (c.split('_')[0] not in ['OWFA', 'VWFA1', 'VWFA2', 'mfswords', 'mTLwords'])]\n",
    "mask_ol = [i for i, c in enumerate(df_ttest.columns) if (\"orig_low\" in c) and (c.split('_')[0] not in ['OWFA', 'VWFA1', 'VWFA2', 'mfswords', 'mTLwords'])]\n",
    "mask_rh = [i for i, c in enumerate(df_ttest.columns) if (\"recon_high\" in c) and (c.split('_')[0] not in ['OWFA', 'VWFA1', 'VWFA2', 'mfswords', 'mTLwords'])]\n",
    "mask_rl = [i for i, c in enumerate(df_ttest.columns) if (\"recon_low\" in c) and (c.split('_')[0] not in ['OWFA', 'VWFA1', 'VWFA2', 'mfswords', 'mTLwords'])]"
   ]
  },
  {
   "cell_type": "code",
   "execution_count": 210,
   "metadata": {},
   "outputs": [],
   "source": [
    "def print_non_nan_columns(row):\n",
    "    non_nan_columns = [c.split('_')[0] for c in row[row.notna()].index.tolist() if c != \"subject\"]\n",
    "    print(f\"Subject {int(row.subject)} ({len(non_nan_columns)}/19): {non_nan_columns}\")"
   ]
  },
  {
   "cell_type": "code",
   "execution_count": 211,
   "metadata": {},
   "outputs": [],
   "source": [
    "df_sig = df_ttest[df_ttest[\"ttest_p\"] > 0.05]"
   ]
  },
  {
   "cell_type": "code",
   "execution_count": 212,
   "metadata": {},
   "outputs": [],
   "source": [
    "df_hl = pd.concat([df_sig[[\"subject\"]], df_sig[df_ttest.iloc[:, mask_hl] < 0.05]], axis=1).dropna(axis=1, how='all')\n",
    "df_high = pd.concat([df_sig[[\"subject\"]], df_sig[df_ttest.iloc[:, mask_rh] < 0.05]], axis=1).dropna(axis=1, how='all')\n",
    "df_low = pd.concat([df_sig[[\"subject\"]], df_sig[df_ttest.iloc[:, mask_rl] < 0.05]], axis=1).dropna(axis=1, how='all')"
   ]
  },
  {
   "cell_type": "code",
   "execution_count": 213,
   "metadata": {},
   "outputs": [
    {
     "name": "stdout",
     "output_type": "stream",
     "text": [
      "NSD: Memorability-Increased - Memorability-Decreased\n",
      "Subject 2 (12/19): ['OFA', 'FFA1', 'FFA2', 'aTLfaces', 'EBA', 'FBA2', 'V2v', 'V3v', 'hV4', 'L-hippocampus', 'L-amygdala', 'R-amygdala']\n",
      "Subject 3 (10/19): ['OFA', 'FFA1', 'FFA2', 'aTLfaces', 'EBA', 'FBA1', 'FBA2', 'hV4', 'L-amygdala', 'R-amygdala']\n",
      "Subject 5 (13/19): ['OFA', 'FFA1', 'FFA2', 'mTLfaces', 'aTLfaces', 'EBA', 'FBA1', 'FBA2', 'mTLbodies', 'hV4', 'L-hippocampus', 'L-amygdala', 'R-amygdala']\n",
      "Subject 6 (11/19): ['OFA', 'FFA1', 'FFA2', 'aTLfaces', 'EBA', 'FBA1', 'FBA2', 'mTLbodies', 'hV4', 'L-amygdala', 'R-amygdala']\n",
      "Subject 7 (9/19): ['OFA', 'FFA1', 'FFA2', 'mTLfaces', 'aTLfaces', 'EBA', 'FBA2', 'L-amygdala', 'R-amygdala']\n",
      "Subject 8 (12/19): ['OFA', 'FFA1', 'FFA2', 'mTLfaces', 'aTLfaces', 'EBA', 'FBA1', 'FBA2', 'mTLbodies', 'hV4', 'L-amygdala', 'R-amygdala']\n",
      "\n",
      "NSD: Synthesized - Memorability-Increased\n",
      "Subject 2 (11/19): ['FFA2', 'aTLfaces', 'FBA2', 'V1v', 'V2v', 'V2d', 'V3v', 'V3d', 'hV4', 'L-amygdala', 'R-amygdala']\n",
      "Subject 3 (14/19): ['OFA', 'FFA1', 'FFA2', 'aTLfaces', 'FBA1', 'V1v', 'V1d', 'V2v', 'V2d', 'V3v', 'V3d', 'hV4', 'L-amygdala', 'R-amygdala']\n",
      "Subject 5 (6/19): ['FFA1', 'aTLfaces', 'FBA1', 'FBA2', 'mTLbodies', 'L-amygdala']\n",
      "Subject 6 (5/19): ['FBA1', 'mTLbodies', 'V2d', 'L-amygdala', 'R-amygdala']\n",
      "Subject 7 (12/19): ['FFA1', 'FFA2', 'mTLfaces', 'aTLfaces', 'FBA2', 'V1v', 'V1d', 'V2v', 'V2d', 'V3v', 'V3d', 'hV4']\n",
      "Subject 8 (1/19): ['V1v']\n",
      "\n",
      "NSD: Synthesized - Memorability-Decreased\n",
      "Subject 2 (10/19): ['OFA', 'FFA1', 'FFA2', 'aTLfaces', 'EBA', 'RSC', 'hV4', 'L-hippocampus', 'R-hippocampus', 'R-amygdala']\n",
      "Subject 3 (7/19): ['OFA', 'FFA2', 'EBA', 'FBA2', 'RSC', 'L-hippocampus', 'R-amygdala']\n",
      "Subject 5 (17/19): ['OFA', 'FFA1', 'FFA2', 'mTLfaces', 'aTLfaces', 'EBA', 'FBA1', 'FBA2', 'mTLbodies', 'OPA', 'RSC', 'V3d', 'hV4', 'L-hippocampus', 'L-amygdala', 'R-hippocampus', 'R-amygdala']\n",
      "Subject 6 (14/19): ['OFA', 'FFA1', 'FFA2', 'aTLfaces', 'EBA', 'FBA1', 'FBA2', 'PPA', 'RSC', 'V3d', 'hV4', 'L-hippocampus', 'R-hippocampus', 'R-amygdala']\n",
      "Subject 7 (11/19): ['OFA', 'FFA2', 'mTLfaces', 'aTLfaces', 'EBA', 'FBA2', 'RSC', 'L-hippocampus', 'L-amygdala', 'R-hippocampus', 'R-amygdala']\n",
      "Subject 8 (18/19): ['OFA', 'FFA1', 'FFA2', 'mTLfaces', 'aTLfaces', 'EBA', 'FBA1', 'FBA2', 'mTLbodies', 'OPA', 'PPA', 'RSC', 'V3d', 'hV4', 'L-hippocampus', 'L-amygdala', 'R-hippocampus', 'R-amygdala']\n",
      "\n"
     ]
    }
   ],
   "source": [
    "print(\"NSD: Memorability-Increased - Memorability-Decreased\")\n",
    "df_hl.apply(print_non_nan_columns, axis=1)\n",
    "print()\n",
    "\n",
    "print(\"NSD: Synthesized - Memorability-Increased\")\n",
    "df_high.apply(print_non_nan_columns, axis=1)\n",
    "print()\n",
    "\n",
    "print(\"NSD: Synthesized - Memorability-Decreased\")\n",
    "df_low.apply(print_non_nan_columns, axis=1)\n",
    "print()"
   ]
  },
  {
   "cell_type": "code",
   "execution_count": 214,
   "metadata": {},
   "outputs": [],
   "source": [
    "df_high = pd.concat([df_sig[[\"subject\"]], df_sig[df_ttest.iloc[:, mask_oh] < 0.05]], axis=1).dropna(axis=1, how='all')\n",
    "df_low = pd.concat([df_sig[[\"subject\"]], df_sig[df_ttest.iloc[:, mask_ol] < 0.05]], axis=1).dropna(axis=1, how='all')"
   ]
  },
  {
   "cell_type": "code",
   "execution_count": 215,
   "metadata": {},
   "outputs": [
    {
     "name": "stdout",
     "output_type": "stream",
     "text": [
      "NSD: Original - Memorability-Increased\n",
      "Subject 2 (8/19): ['FFA2', 'aTLfaces', 'FBA2', 'V1v', 'V2v', 'V2d', 'L-amygdala', 'R-amygdala']\n",
      "Subject 3 (9/19): ['OFA', 'FFA1', 'FFA2', 'aTLfaces', 'FBA1', 'V1v', 'V2v', 'L-amygdala', 'R-amygdala']\n",
      "Subject 5 (4/19): ['FFA1', 'FBA2', 'mTLbodies', 'L-amygdala']\n",
      "Subject 6 (3/19): ['FBA1', 'mTLbodies', 'L-amygdala']\n",
      "Subject 7 (9/19): ['FFA1', 'FFA2', 'mTLfaces', 'aTLfaces', 'FBA2', 'V1v', 'V2v', 'V3v', 'hV4']\n",
      "Subject 8 (0/19): []\n",
      "\n",
      "NSD: Original - Memorability-Decreased\n",
      "Subject 2 (12/19): ['OFA', 'FFA1', 'FFA2', 'aTLfaces', 'EBA', 'OPA', 'PPA', 'RSC', 'V3v', 'hV4', 'L-hippocampus', 'R-hippocampus']\n",
      "Subject 3 (11/19): ['OFA', 'FFA2', 'EBA', 'FBA2', 'PPA', 'RSC', 'V3v', 'V3d', 'hV4', 'L-hippocampus', 'R-hippocampus']\n",
      "Subject 5 (20/19): ['OFA', 'FFA1', 'FFA2', 'mTLfaces', 'aTLfaces', 'EBA', 'FBA1', 'FBA2', 'mTLbodies', 'OPA', 'PPA', 'RSC', 'V2d', 'V3v', 'V3d', 'hV4', 'L-hippocampus', 'L-amygdala', 'R-hippocampus', 'R-amygdala']\n",
      "Subject 6 (19/19): ['OFA', 'FFA1', 'FFA2', 'aTLfaces', 'EBA', 'FBA1', 'FBA2', 'OPA', 'PPA', 'RSC', 'V1v', 'V2d', 'V3v', 'V3d', 'hV4', 'L-hippocampus', 'L-amygdala', 'R-hippocampus', 'R-amygdala']\n",
      "Subject 7 (11/19): ['OFA', 'FFA2', 'aTLfaces', 'EBA', 'FBA2', 'PPA', 'RSC', 'L-hippocampus', 'L-amygdala', 'R-hippocampus', 'R-amygdala']\n",
      "Subject 8 (21/19): ['OFA', 'FFA1', 'FFA2', 'mTLfaces', 'aTLfaces', 'EBA', 'FBA1', 'FBA2', 'mTLbodies', 'OPA', 'PPA', 'RSC', 'V2v', 'V2d', 'V3v', 'V3d', 'hV4', 'L-hippocampus', 'L-amygdala', 'R-hippocampus', 'R-amygdala']\n",
      "\n"
     ]
    }
   ],
   "source": [
    "print(\"NSD: Original - Memorability-Increased\")\n",
    "df_high.apply(print_non_nan_columns, axis=1)\n",
    "print()\n",
    "\n",
    "print(\"NSD: Original - Memorability-Decreased\")\n",
    "df_low.apply(print_non_nan_columns, axis=1)\n",
    "print()"
   ]
  },
  {
   "cell_type": "markdown",
   "metadata": {
    "jp-MarkdownHeadingCollapsed": true
   },
   "source": [
    "## For all NSD images"
   ]
  },
  {
   "cell_type": "code",
   "execution_count": 81,
   "metadata": {},
   "outputs": [],
   "source": [
    "# parameters\n",
    "subject = 8\n",
    "savearg = {'format':'png', 'dpi': 120, 'facecolor': None}\n",
    "model_name = 'dnn_fwrf'\n",
    "\n",
    "# number of trials for all subjects\n",
    "trials = np.array([30000, 30000, 24000, 22500, 30000, 24000, 30000, 22500])\n",
    "\n",
    "# subj_dir = ctrld_dir+f\"subj{subject:02d}/\"\n",
    "# subj_dir = ctrld_dir+f\"including_memory/subj{subject:02d}/\"\n",
    "# os.makedirs(subj_dir, exist_ok=True)\n",
    "\n",
    "save_dir = weight_root+f\"S{subject:02d}/\""
   ]
  },
  {
   "cell_type": "code",
   "execution_count": 82,
   "metadata": {},
   "outputs": [
    {
     "name": "stdout",
     "output_type": "stream",
     "text": [
      "ordering shape (30000,)\n",
      "subject_idx shape (8, 10000)\n"
     ]
    }
   ],
   "source": [
    "# load behavior data\n",
    "\n",
    "exp_design = loadmat(exp_design_file)\n",
    "# order of image id in trials\n",
    "ordering = exp_design['masterordering'].flatten() - 1 # zero-indexed ordering of indices (matlab-like to python-like)\n",
    "print('ordering shape', ordering.shape)\n",
    "# image id for each subject\n",
    "subject_idx  = exp_design['subjectim']\n",
    "print('subject_idx shape', subject_idx.shape)\n",
    "# shared image id\n",
    "shared_idx = exp_design['sharedix']"
   ]
  },
  {
   "cell_type": "code",
   "execution_count": 83,
   "metadata": {},
   "outputs": [
    {
     "name": "stdout",
     "output_type": "stream",
     "text": [
      "image data shape (1000, 3, 227, 227)\n"
     ]
    }
   ],
   "source": [
    "image_data = np.load(\"data/nsd/shared1000_227.npy\")\n",
    "image_data = image_data.astype(np.float32) / 255.\n",
    "\n",
    "print('image data shape', image_data.shape)"
   ]
  },
  {
   "cell_type": "code",
   "execution_count": 84,
   "metadata": {},
   "outputs": [],
   "source": [
    "# plt.imshow(image_data[0].transpose(1, 2, 0))"
   ]
  },
  {
   "cell_type": "code",
   "execution_count": 85,
   "metadata": {},
   "outputs": [
    {
     "name": "stdout",
     "output_type": "stream",
     "text": [
      "(22500,)\n"
     ]
    }
   ],
   "source": [
    "# choose the 1000 shared images\n",
    "\n",
    "data_size = trials[subject-1]\n",
    "ordering_data = ordering[:data_size]\n",
    "print(ordering_data.shape)"
   ]
  },
  {
   "cell_type": "code",
   "execution_count": 86,
   "metadata": {},
   "outputs": [
    {
     "name": "stdout",
     "output_type": "stream",
     "text": [
      "test size 2188\n"
     ]
    }
   ],
   "source": [
    "shared_mask = ordering_data<1000  # the first 1000 indices are the shared indices\n",
    "# shared_mask = np.in1d(ordering_data, ctrld_nids)\n",
    "test_size = np.sum(shared_mask)\n",
    "print('test size', test_size)"
   ]
  },
  {
   "cell_type": "code",
   "execution_count": 87,
   "metadata": {},
   "outputs": [
    {
     "name": "stdout",
     "output_type": "stream",
     "text": [
      "test beta shape (2188, 23)\n"
     ]
    }
   ],
   "source": [
    "# load beta\n",
    "ROIs = [\n",
    "    'OFA', 'FFA1', 'FFA2', 'mTLfaces', 'aTLfaces',\n",
    "    'EBA', 'FBA1', 'FBA2', 'mTLbodies',\n",
    "    'OPA', 'PPA', 'RSC',\n",
    "    # 'OWFA', 'VWFA1', 'VWFA2', 'mfswords', 'mTLwords', \n",
    "    'V1v', 'V1d', 'V2v', 'V2d', 'V3v', 'V3d', 'hV4',\n",
    "    'L-hippocampus', 'L-amygdala', 'R-hippocampus', 'R-amygdala'\n",
    "]\n",
    "\n",
    "roi_num = len(ROIs)\n",
    "roi_data = np.zeros([data_size, roi_num])\n",
    "n = 0\n",
    "del_idx = []\n",
    "for roi in ROIs:\n",
    "    roi_data[:,n] = np.genfromtxt(meanROIbeta_root + f'subj{subject:02d}/meanbeta_' + roi + '.txt')\n",
    "    if np.isnan(np.sum(roi_data[:,n])):\n",
    "        print(roi)\n",
    "        del_idx.append(n)\n",
    "    n += 1\n",
    "\n",
    "roi_data = np.delete(roi_data, del_idx, axis=1)\n",
    "test_roi_data = roi_data[shared_mask]\n",
    "\n",
    "print('test beta shape', test_roi_data.shape)"
   ]
  },
  {
   "cell_type": "code",
   "execution_count": 88,
   "metadata": {},
   "outputs": [],
   "source": [
    "# load encoding models\n",
    "fwrf, fmaps = load_encoding(subject, model_name='dnn_fwrf')\n",
    "\n",
    "# load params\n",
    "model_params_set = h5py.File(weight_root+f'S{subject:02d}/model_params.h5py' , 'r')\n",
    "# model_params_set = h5py.File(weight_root+f'S{subject:02d}/dnn_fwrf/model_params.h5py' , 'r')\n",
    "model_params = embed_dict({k: np.copy(d) for k,d in model_params_set.items()})\n",
    "model_params_set.close()"
   ]
  },
  {
   "cell_type": "code",
   "execution_count": 89,
   "metadata": {},
   "outputs": [
    {
     "name": "stdout",
     "output_type": "stream",
     "text": [
      "samples [  900:999  ] of 1000, voxels [     0:22    ] of 23\n",
      "---------------------------------------\n",
      "total time = 1.719454s\n",
      "sample throughput = 0.001719s/sample\n",
      "voxel throughput = 0.074759s/voxel\n",
      "test pred shape (2188, 23)\n"
     ]
    }
   ],
   "source": [
    "# predict brain response\n",
    "voxel_pred = get_predictions(image_data, fmaps, fwrf, model_params['params'])\n",
    "test_voxel_pred = voxel_pred[ordering[:data_size][shared_mask]]\n",
    "print('test pred shape', test_voxel_pred.shape)"
   ]
  },
  {
   "cell_type": "code",
   "execution_count": 90,
   "metadata": {},
   "outputs": [
    {
     "data": {
      "image/png": "[encoded data removed]",
      "text/plain": [
       "<Figure size 1600x600 with 1 Axes>"
      ]
     },
     "metadata": {},
     "output_type": "display_data"
    }
   ],
   "source": [
    "# correlate predicted response and beta\n",
    "accuracy = np.zeros(shape=(test_voxel_pred.shape[1]))\n",
    "\n",
    "for v in range(test_voxel_pred.shape[1]):\n",
    "    accuracy[v] = np.corrcoef(test_roi_data[:,v], test_voxel_pred[:,v])[0,1]  \n",
    "    \n",
    "\n",
    "accuracy = np.nan_to_num(accuracy)\n",
    "\n",
    "# plot the accuracy for all rois\n",
    "# ROIs_label = ['OFA', 'FFA1', 'FFA2', 'mTL \\n faces', 'aTL \\n faces', 'EBA', 'FBA1', 'FBA2', 'mTL \\n bodies', 'OPA', 'PPA', 'RSC', 'OWFA', 'VWFA1', 'VWFA2', 'mfs \\n words', 'mTL \\n words', 'V1v', 'V1d', 'V2v', 'V2d', 'V3v', 'V3d', 'hV4']\n",
    "ROIs_label = ['OFA', 'FFA1', 'FFA2', 'mTL \\n faces', 'aTL \\n faces', 'EBA', 'FBA1', 'FBA2', 'mTL \\n bodies', 'OPA', 'PPA', 'RSC', 'V1v', 'V1d', 'V2v', 'V2d', 'V3v', 'V3d', 'hV4', 'L_hpc', 'L_amg', 'R_hpc', 'R_amg']\n",
    "ROIs_label = np.delete(ROIs_label,del_idx) \n",
    "\n",
    "plt.figure(figsize=(16,6))\n",
    "plt.bar(ROIs_label,accuracy)\n",
    "plt.ylabel('Accuracy')\n",
    "\n",
    "# np.save(save_dir+\"voxel_pred_nsd.npy\", voxel_pred)\n",
    "# np.save(save_dir+\"accuracy.npy\", accuracy)\n",
    "plt.savefig(save_dir+'accuracy.png')"
   ]
  },
  {
   "cell_type": "code",
   "execution_count": 91,
   "metadata": {},
   "outputs": [],
   "source": [
    "ROIs_bool = np.ones((23,1), dtype='bool')\n",
    "ROIs_bool[del_idx] = False\n",
    "\n",
    "pred_act = np.zeros((1000,23))\n",
    "pred_act[:,ROIs_bool[:,0]] = voxel_pred\n",
    "\n",
    "with open(save_dir + 'act_pred.npy', 'wb') as f:\n",
    "    np.save(f, pred_act)\n",
    "\n",
    "save_acc = np.zeros([1,23])\n",
    "save_acc[:,ROIs_bool[:,0]] = accuracy\n",
    "\n",
    "with open(save_dir + 'acc.npy', 'wb') as f:\n",
    "    np.save(f, save_acc)"
   ]
  },
  {
   "cell_type": "code",
   "execution_count": null,
   "metadata": {},
   "outputs": [],
   "source": []
  }
 ],
 "metadata": {
  "kernelspec": {
   "display_name": "Python 3 (ipykernel)",
   "language": "python",
   "name": "python3"
  },
  "language_info": {
   "codemirror_mode": {
    "name": "ipython",
    "version": 3
   },
   "file_extension": ".py",
   "mimetype": "text/x-python",
   "name": "python",
   "nbconvert_exporter": "python",
   "pygments_lexer": "ipython3",
   "version": "3.8.3"
  }
 },
 "nbformat": 4,
 "nbformat_minor": 4
}
